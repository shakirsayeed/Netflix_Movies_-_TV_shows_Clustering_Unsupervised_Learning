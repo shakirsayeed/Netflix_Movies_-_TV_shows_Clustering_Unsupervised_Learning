{
  "cells": [
    {
      "cell_type": "markdown",
      "metadata": {
        "id": "view-in-github",
        "colab_type": "text"
      },
      "source": [
        "<a href=\"https://colab.research.google.com/github/shakirsayeed/Netflix_Movies_-_TV_shows_Clustering_Unsupervised_Learning/blob/main/Netflix_Movies_%26_TV_shows_Clustering_Unsupervised_Learning_1_.ipynb\" target=\"_parent\"><img src=\"https://colab.research.google.com/assets/colab-badge.svg\" alt=\"Open In Colab\"/></a>"
      ]
    },
    {
      "cell_type": "markdown",
      "metadata": {
        "id": "vncDsAP0Gaoa"
      },
      "source": [
        "# **Project Name**-\n",
        "#<font size='8![Netflix.png](data:image/png;base64,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)x' >***Netflix Movies & TV shows Clustering -Unsupervised Learning***\n",
        "\n"
      ]
    },
    {
      "cell_type": "markdown",
      "metadata": {
        "id": "beRrZCGUAJYm"
      },
      "source": [
        "##### **Project Type**    - Unsupervised Learning\n",
        "\n",
        "##### **Contribution -**Individual\n"
      ]
    },
    {
      "cell_type": "markdown",
      "source": [
        "![Netflix](/content/drive/MyDrive/DS_Notes/Module6/CapstoneNetflixProject/Netflix.png)\n"
      ],
      "metadata": {
        "id": "Z8LWPOfrAOES"
      }
    },
    {
      "cell_type": "markdown",
      "metadata": {
        "id": "FJNUwmbgGyua"
      },
      "source": [
        "# **Project Summary -**"
      ]
    },
    {
      "cell_type": "markdown",
      "metadata": {
        "id": "F6v_1wHtG2nS"
      },
      "source": [
        "\n",
        "\n",
        "The objective of this project is to analyze and cluster a dataset related to Netflix. **The dataset consists of various attributes associated with Netflix shows and movies, such as title, genre, release year, duration, rating, and others. The aim is to explore patterns and similarities among the content available on the platform and group them into meaningful clusters**.\n",
        "\n",
        "To begin with, the dataset will be preprocessed by handling missing values, removing irrelevant columns, and transforming categorical variables into numerical representations. Feature engineering techniques may also be applied to extract useful information from the existing attributes.\n",
        "\n",
        "Next, exploratory data analysis (EDA) techniques will be utilized to gain insights into the dataset. **Visualizations and statistical summaries will be used to understand the distribution of variables, identify any trends, and explore relationships between different features**.\n",
        "\n",
        "Once the dataset has been thoroughly analyzed, clustering algorithms such as k-means, hierarchical clustering, or density-based spatial clustering will be employed. These algorithms will group similar Netflix shows and movies together based on their attributes. **The optimal number of clusters will be determined using techniques like the elbow method or silhouette analysis.**\n",
        "\n",
        "After the clustering process, the results will be evaluated and interpreted. **The clusters will be analyzed to understand the common characteristics and patterns within each group. This analysis will provide valuable information for Netflix in terms of content categorization, recommendation systems, and content acquisition strategies**.\n",
        "\n",
        "Finally, the findings and insights from the clustering analysis will be summarized and presented in a clear and concise manner. Visualizations, charts, and graphs will be used to effectively communicate the outcomes of the project. **Recommendations may also be provided based on the identified clusters, suggesting potential improvements or strategies for Netflix** to enhance user experience and content offerings.\n",
        "\n",
        "**In conclusion, this project aims to analyze a Netflix dataset, perform clustering techniques to group similar shows and movies together, and provide insights and recommendations based on the clustering results. The project will contribute to a better understanding of Netflix's content landscape and aid in decision-making processes for the company**."
      ]
    },
    {
      "cell_type": "markdown",
      "metadata": {
        "id": "w6K7xa23Elo4"
      },
      "source": [
        "# **GitHub Link -**"
      ]
    },
    {
      "cell_type": "markdown",
      "metadata": {
        "id": "h1o69JH3Eqqn"
      },
      "source": [
        "Provide your GitHub Link here."
      ]
    },
    {
      "cell_type": "markdown",
      "metadata": {
        "id": "yQaldy8SH6Dl"
      },
      "source": [
        "# **Problem Statement**\n"
      ]
    },
    {
      "cell_type": "markdown",
      "metadata": {
        "id": "DpeJGUA3kjGy"
      },
      "source": [
        "This dataset consists of tv shows and movies available on Netflix as of 2019. The dataset is collected from Flixable which is a third-party Netflix search engine.\n",
        "\n",
        "In 2018, they released an interesting report which shows that the number of TV shows on Netflix has nearly tripled since 2010. The streaming service’s number of movies has decreased by more than 2,000 titles since 2010, while its number of TV shows has nearly tripled. It will be interesting to explore what all other insights can be obtained from the same dataset.\n",
        "\n",
        "\n",
        "\n"
      ]
    },
    {
      "cell_type": "markdown",
      "metadata": {
        "id": "O_i_v8NEhb9l"
      },
      "source": [
        "# ***Let's Begin !***"
      ]
    },
    {
      "cell_type": "markdown",
      "metadata": {
        "id": "HhfV-JJviCcP"
      },
      "source": [
        "## ***1. Know Your Data***"
      ]
    },
    {
      "cell_type": "markdown",
      "metadata": {
        "id": "Y3lxredqlCYt"
      },
      "source": [
        "### Import Libraries"
      ]
    },
    {
      "cell_type": "code",
      "execution_count": 4,
      "metadata": {
        "id": "M8Vqi-pPk-HR",
        "colab": {
          "base_uri": "https://localhost:8080/"
        },
        "outputId": "cbc2de09-2077-4f30-dc24-f2f4be503ba8"
      },
      "outputs": [
        {
          "output_type": "stream",
          "name": "stderr",
          "text": [
            "<ipython-input-4-1392662c5a3a>:6: DeprecationWarning: `np.math` is a deprecated alias for the standard library `math` module (Deprecated Numpy 1.25). Replace usages of `np.math` with `math`\n",
            "  from numpy import math\n"
          ]
        }
      ],
      "source": [
        "# Import Libraries\n",
        "\n",
        "# Importing the libraries\n",
        "import numpy as np\n",
        "import pandas as pd\n",
        "from numpy import math\n",
        "import seaborn as sns\n",
        "import matplotlib.pyplot as plt\n",
        "import matplotlib.ticker as mtick\n",
        "from matplotlib.pyplot import figure\n",
        "import plotly.graph_objects as go\n",
        "import plotly.offline as py\n",
        "import plotly.express as px\n",
        "from datetime import datetime\n",
        "\n",
        "import plotly.graph_objects as go\n",
        "import plotly.express as px\n",
        "from plotly.subplots import make_subplots\n",
        "from plotly.offline import init_notebook_mode, iplot\n",
        "import plotly.offline as po\n",
        "import plotly.io as pio\n",
        "\n",
        "from collections import Counter\n",
        "from sklearn import preprocessing\n",
        "from sklearn.feature_extraction.text import TfidfVectorizer\n",
        "from sklearn.model_selection import train_test_split, KFold\n",
        "from nltk.corpus import stopwords\n",
        "from nltk.stem.snowball import SnowballStemmer\n",
        "from sklearn.decomposition import PCA\n",
        "\n",
        "import warnings\n",
        "warnings.filterwarnings('ignore')"
      ]
    },
    {
      "cell_type": "markdown",
      "metadata": {
        "id": "3RnN4peoiCZX"
      },
      "source": [
        "### Dataset Loading"
      ]
    },
    {
      "cell_type": "code",
      "execution_count": 5,
      "metadata": {
        "colab": {
          "base_uri": "https://localhost:8080/"
        },
        "id": "4CkvbW_SlZ_R",
        "outputId": "3ee2b638-2588-4355-eb4a-fe82ef0d7c50"
      },
      "outputs": [
        {
          "output_type": "stream",
          "name": "stdout",
          "text": [
            "Drive already mounted at /content/drive; to attempt to forcibly remount, call drive.mount(\"/content/drive\", force_remount=True).\n"
          ]
        }
      ],
      "source": [
        "# Load Dataset\n",
        "from google.colab import drive\n",
        "drive.mount('/content/drive')"
      ]
    },
    {
      "cell_type": "code",
      "execution_count": 8,
      "metadata": {
        "colab": {
          "base_uri": "https://localhost:8080/"
        },
        "id": "F5pfLQZgb7cj",
        "outputId": "17b7de1c-51da-49be-f1ba-91815b182b8a"
      },
      "outputs": [
        {
          "output_type": "stream",
          "name": "stdout",
          "text": [
            "Requirement already satisfied: kaleido in /usr/local/lib/python3.10/dist-packages (0.2.1)\n"
          ]
        }
      ],
      "source": [
        "pip install -U kaleido"
      ]
    },
    {
      "cell_type": "code",
      "execution_count": 9,
      "metadata": {
        "id": "oYVoYiX8iqDG"
      },
      "outputs": [],
      "source": [
        "#Loading the dataset\n",
        "netflix_movies1= pd.read_csv('/content/drive/MyDrive/DS_Notes/Module6/CapstoneNetfilxProject/NETFLIX MOVIES AND TV SHOWS CLUSTERING.csv')"
      ]
    },
    {
      "cell_type": "markdown",
      "metadata": {
        "id": "x71ZqKXriCWQ"
      },
      "source": [
        "### Dataset First View"
      ]
    },
    {
      "cell_type": "code",
      "execution_count": 10,
      "metadata": {
        "colab": {
          "base_uri": "https://localhost:8080/",
          "height": 380
        },
        "id": "LWNFOSvLl09H",
        "outputId": "5e9fc3c1-9675-4b07-a814-fd522a71176a"
      },
      "outputs": [
        {
          "output_type": "execute_result",
          "data": {
            "text/plain": [
              "  show_id     type  title           director  \\\n",
              "0      s1  TV Show     3%                NaN   \n",
              "1      s2    Movie   7:19  Jorge Michel Grau   \n",
              "2      s3    Movie  23:59       Gilbert Chan   \n",
              "3      s4    Movie      9        Shane Acker   \n",
              "4      s5    Movie     21     Robert Luketic   \n",
              "\n",
              "                                                cast        country  \\\n",
              "0  João Miguel, Bianca Comparato, Michel Gomes, R...         Brazil   \n",
              "1  Demián Bichir, Héctor Bonilla, Oscar Serrano, ...         Mexico   \n",
              "2  Tedd Chan, Stella Chung, Henley Hii, Lawrence ...      Singapore   \n",
              "3  Elijah Wood, John C. Reilly, Jennifer Connelly...  United States   \n",
              "4  Jim Sturgess, Kevin Spacey, Kate Bosworth, Aar...  United States   \n",
              "\n",
              "          date_added  release_year rating   duration  \\\n",
              "0    August 14, 2020          2020  TV-MA  4 Seasons   \n",
              "1  December 23, 2016          2016  TV-MA     93 min   \n",
              "2  December 20, 2018          2011      R     78 min   \n",
              "3  November 16, 2017          2009  PG-13     80 min   \n",
              "4    January 1, 2020          2008  PG-13    123 min   \n",
              "\n",
              "                                           listed_in  \\\n",
              "0  International TV Shows, TV Dramas, TV Sci-Fi &...   \n",
              "1                       Dramas, International Movies   \n",
              "2                Horror Movies, International Movies   \n",
              "3  Action & Adventure, Independent Movies, Sci-Fi...   \n",
              "4                                             Dramas   \n",
              "\n",
              "                                         description  \n",
              "0  In a future where the elite inhabit an island ...  \n",
              "1  After a devastating earthquake hits Mexico Cit...  \n",
              "2  When an army recruit is found dead, his fellow...  \n",
              "3  In a postapocalyptic world, rag-doll robots hi...  \n",
              "4  A brilliant group of students become card-coun...  "
            ],
            "text/html": [
              "\n",
              "  <div id=\"df-0c3764d9-3d22-4eaf-a3c3-1e26e0649111\" class=\"colab-df-container\">\n",
              "    <div>\n",
              "<style scoped>\n",
              "    .dataframe tbody tr th:only-of-type {\n",
              "        vertical-align: middle;\n",
              "    }\n",
              "\n",
              "    .dataframe tbody tr th {\n",
              "        vertical-align: top;\n",
              "    }\n",
              "\n",
              "    .dataframe thead th {\n",
              "        text-align: right;\n",
              "    }\n",
              "</style>\n",
              "<table border=\"1\" class=\"dataframe\">\n",
              "  <thead>\n",
              "    <tr style=\"text-align: right;\">\n",
              "      <th></th>\n",
              "      <th>show_id</th>\n",
              "      <th>type</th>\n",
              "      <th>title</th>\n",
              "      <th>director</th>\n",
              "      <th>cast</th>\n",
              "      <th>country</th>\n",
              "      <th>date_added</th>\n",
              "      <th>release_year</th>\n",
              "      <th>rating</th>\n",
              "      <th>duration</th>\n",
              "      <th>listed_in</th>\n",
              "      <th>description</th>\n",
              "    </tr>\n",
              "  </thead>\n",
              "  <tbody>\n",
              "    <tr>\n",
              "      <th>0</th>\n",
              "      <td>s1</td>\n",
              "      <td>TV Show</td>\n",
              "      <td>3%</td>\n",
              "      <td>NaN</td>\n",
              "      <td>João Miguel, Bianca Comparato, Michel Gomes, R...</td>\n",
              "      <td>Brazil</td>\n",
              "      <td>August 14, 2020</td>\n",
              "      <td>2020</td>\n",
              "      <td>TV-MA</td>\n",
              "      <td>4 Seasons</td>\n",
              "      <td>International TV Shows, TV Dramas, TV Sci-Fi &amp;...</td>\n",
              "      <td>In a future where the elite inhabit an island ...</td>\n",
              "    </tr>\n",
              "    <tr>\n",
              "      <th>1</th>\n",
              "      <td>s2</td>\n",
              "      <td>Movie</td>\n",
              "      <td>7:19</td>\n",
              "      <td>Jorge Michel Grau</td>\n",
              "      <td>Demián Bichir, Héctor Bonilla, Oscar Serrano, ...</td>\n",
              "      <td>Mexico</td>\n",
              "      <td>December 23, 2016</td>\n",
              "      <td>2016</td>\n",
              "      <td>TV-MA</td>\n",
              "      <td>93 min</td>\n",
              "      <td>Dramas, International Movies</td>\n",
              "      <td>After a devastating earthquake hits Mexico Cit...</td>\n",
              "    </tr>\n",
              "    <tr>\n",
              "      <th>2</th>\n",
              "      <td>s3</td>\n",
              "      <td>Movie</td>\n",
              "      <td>23:59</td>\n",
              "      <td>Gilbert Chan</td>\n",
              "      <td>Tedd Chan, Stella Chung, Henley Hii, Lawrence ...</td>\n",
              "      <td>Singapore</td>\n",
              "      <td>December 20, 2018</td>\n",
              "      <td>2011</td>\n",
              "      <td>R</td>\n",
              "      <td>78 min</td>\n",
              "      <td>Horror Movies, International Movies</td>\n",
              "      <td>When an army recruit is found dead, his fellow...</td>\n",
              "    </tr>\n",
              "    <tr>\n",
              "      <th>3</th>\n",
              "      <td>s4</td>\n",
              "      <td>Movie</td>\n",
              "      <td>9</td>\n",
              "      <td>Shane Acker</td>\n",
              "      <td>Elijah Wood, John C. Reilly, Jennifer Connelly...</td>\n",
              "      <td>United States</td>\n",
              "      <td>November 16, 2017</td>\n",
              "      <td>2009</td>\n",
              "      <td>PG-13</td>\n",
              "      <td>80 min</td>\n",
              "      <td>Action &amp; Adventure, Independent Movies, Sci-Fi...</td>\n",
              "      <td>In a postapocalyptic world, rag-doll robots hi...</td>\n",
              "    </tr>\n",
              "    <tr>\n",
              "      <th>4</th>\n",
              "      <td>s5</td>\n",
              "      <td>Movie</td>\n",
              "      <td>21</td>\n",
              "      <td>Robert Luketic</td>\n",
              "      <td>Jim Sturgess, Kevin Spacey, Kate Bosworth, Aar...</td>\n",
              "      <td>United States</td>\n",
              "      <td>January 1, 2020</td>\n",
              "      <td>2008</td>\n",
              "      <td>PG-13</td>\n",
              "      <td>123 min</td>\n",
              "      <td>Dramas</td>\n",
              "      <td>A brilliant group of students become card-coun...</td>\n",
              "    </tr>\n",
              "  </tbody>\n",
              "</table>\n",
              "</div>\n",
              "    <div class=\"colab-df-buttons\">\n",
              "\n",
              "  <div class=\"colab-df-container\">\n",
              "    <button class=\"colab-df-convert\" onclick=\"convertToInteractive('df-0c3764d9-3d22-4eaf-a3c3-1e26e0649111')\"\n",
              "            title=\"Convert this dataframe to an interactive table.\"\n",
              "            style=\"display:none;\">\n",
              "\n",
              "  <svg xmlns=\"http://www.w3.org/2000/svg\" height=\"24px\" viewBox=\"0 -960 960 960\">\n",
              "    <path d=\"M120-120v-720h720v720H120Zm60-500h600v-160H180v160Zm220 220h160v-160H400v160Zm0 220h160v-160H400v160ZM180-400h160v-160H180v160Zm440 0h160v-160H620v160ZM180-180h160v-160H180v160Zm440 0h160v-160H620v160Z\"/>\n",
              "  </svg>\n",
              "    </button>\n",
              "\n",
              "  <style>\n",
              "    .colab-df-container {\n",
              "      display:flex;\n",
              "      gap: 12px;\n",
              "    }\n",
              "\n",
              "    .colab-df-convert {\n",
              "      background-color: #E8F0FE;\n",
              "      border: none;\n",
              "      border-radius: 50%;\n",
              "      cursor: pointer;\n",
              "      display: none;\n",
              "      fill: #1967D2;\n",
              "      height: 32px;\n",
              "      padding: 0 0 0 0;\n",
              "      width: 32px;\n",
              "    }\n",
              "\n",
              "    .colab-df-convert:hover {\n",
              "      background-color: #E2EBFA;\n",
              "      box-shadow: 0px 1px 2px rgba(60, 64, 67, 0.3), 0px 1px 3px 1px rgba(60, 64, 67, 0.15);\n",
              "      fill: #174EA6;\n",
              "    }\n",
              "\n",
              "    .colab-df-buttons div {\n",
              "      margin-bottom: 4px;\n",
              "    }\n",
              "\n",
              "    [theme=dark] .colab-df-convert {\n",
              "      background-color: #3B4455;\n",
              "      fill: #D2E3FC;\n",
              "    }\n",
              "\n",
              "    [theme=dark] .colab-df-convert:hover {\n",
              "      background-color: #434B5C;\n",
              "      box-shadow: 0px 1px 3px 1px rgba(0, 0, 0, 0.15);\n",
              "      filter: drop-shadow(0px 1px 2px rgba(0, 0, 0, 0.3));\n",
              "      fill: #FFFFFF;\n",
              "    }\n",
              "  </style>\n",
              "\n",
              "    <script>\n",
              "      const buttonEl =\n",
              "        document.querySelector('#df-0c3764d9-3d22-4eaf-a3c3-1e26e0649111 button.colab-df-convert');\n",
              "      buttonEl.style.display =\n",
              "        google.colab.kernel.accessAllowed ? 'block' : 'none';\n",
              "\n",
              "      async function convertToInteractive(key) {\n",
              "        const element = document.querySelector('#df-0c3764d9-3d22-4eaf-a3c3-1e26e0649111');\n",
              "        const dataTable =\n",
              "          await google.colab.kernel.invokeFunction('convertToInteractive',\n",
              "                                                    [key], {});\n",
              "        if (!dataTable) return;\n",
              "\n",
              "        const docLinkHtml = 'Like what you see? Visit the ' +\n",
              "          '<a target=\"_blank\" href=https://colab.research.google.com/notebooks/data_table.ipynb>data table notebook</a>'\n",
              "          + ' to learn more about interactive tables.';\n",
              "        element.innerHTML = '';\n",
              "        dataTable['output_type'] = 'display_data';\n",
              "        await google.colab.output.renderOutput(dataTable, element);\n",
              "        const docLink = document.createElement('div');\n",
              "        docLink.innerHTML = docLinkHtml;\n",
              "        element.appendChild(docLink);\n",
              "      }\n",
              "    </script>\n",
              "  </div>\n",
              "\n",
              "\n",
              "<div id=\"df-063570d4-e0d8-4ea5-a605-7e7e34f8e1c7\">\n",
              "  <button class=\"colab-df-quickchart\" onclick=\"quickchart('df-063570d4-e0d8-4ea5-a605-7e7e34f8e1c7')\"\n",
              "            title=\"Suggest charts\"\n",
              "            style=\"display:none;\">\n",
              "\n",
              "<svg xmlns=\"http://www.w3.org/2000/svg\" height=\"24px\"viewBox=\"0 0 24 24\"\n",
              "     width=\"24px\">\n",
              "    <g>\n",
              "        <path d=\"M19 3H5c-1.1 0-2 .9-2 2v14c0 1.1.9 2 2 2h14c1.1 0 2-.9 2-2V5c0-1.1-.9-2-2-2zM9 17H7v-7h2v7zm4 0h-2V7h2v10zm4 0h-2v-4h2v4z\"/>\n",
              "    </g>\n",
              "</svg>\n",
              "  </button>\n",
              "\n",
              "<style>\n",
              "  .colab-df-quickchart {\n",
              "      --bg-color: #E8F0FE;\n",
              "      --fill-color: #1967D2;\n",
              "      --hover-bg-color: #E2EBFA;\n",
              "      --hover-fill-color: #174EA6;\n",
              "      --disabled-fill-color: #AAA;\n",
              "      --disabled-bg-color: #DDD;\n",
              "  }\n",
              "\n",
              "  [theme=dark] .colab-df-quickchart {\n",
              "      --bg-color: #3B4455;\n",
              "      --fill-color: #D2E3FC;\n",
              "      --hover-bg-color: #434B5C;\n",
              "      --hover-fill-color: #FFFFFF;\n",
              "      --disabled-bg-color: #3B4455;\n",
              "      --disabled-fill-color: #666;\n",
              "  }\n",
              "\n",
              "  .colab-df-quickchart {\n",
              "    background-color: var(--bg-color);\n",
              "    border: none;\n",
              "    border-radius: 50%;\n",
              "    cursor: pointer;\n",
              "    display: none;\n",
              "    fill: var(--fill-color);\n",
              "    height: 32px;\n",
              "    padding: 0;\n",
              "    width: 32px;\n",
              "  }\n",
              "\n",
              "  .colab-df-quickchart:hover {\n",
              "    background-color: var(--hover-bg-color);\n",
              "    box-shadow: 0 1px 2px rgba(60, 64, 67, 0.3), 0 1px 3px 1px rgba(60, 64, 67, 0.15);\n",
              "    fill: var(--button-hover-fill-color);\n",
              "  }\n",
              "\n",
              "  .colab-df-quickchart-complete:disabled,\n",
              "  .colab-df-quickchart-complete:disabled:hover {\n",
              "    background-color: var(--disabled-bg-color);\n",
              "    fill: var(--disabled-fill-color);\n",
              "    box-shadow: none;\n",
              "  }\n",
              "\n",
              "  .colab-df-spinner {\n",
              "    border: 2px solid var(--fill-color);\n",
              "    border-color: transparent;\n",
              "    border-bottom-color: var(--fill-color);\n",
              "    animation:\n",
              "      spin 1s steps(1) infinite;\n",
              "  }\n",
              "\n",
              "  @keyframes spin {\n",
              "    0% {\n",
              "      border-color: transparent;\n",
              "      border-bottom-color: var(--fill-color);\n",
              "      border-left-color: var(--fill-color);\n",
              "    }\n",
              "    20% {\n",
              "      border-color: transparent;\n",
              "      border-left-color: var(--fill-color);\n",
              "      border-top-color: var(--fill-color);\n",
              "    }\n",
              "    30% {\n",
              "      border-color: transparent;\n",
              "      border-left-color: var(--fill-color);\n",
              "      border-top-color: var(--fill-color);\n",
              "      border-right-color: var(--fill-color);\n",
              "    }\n",
              "    40% {\n",
              "      border-color: transparent;\n",
              "      border-right-color: var(--fill-color);\n",
              "      border-top-color: var(--fill-color);\n",
              "    }\n",
              "    60% {\n",
              "      border-color: transparent;\n",
              "      border-right-color: var(--fill-color);\n",
              "    }\n",
              "    80% {\n",
              "      border-color: transparent;\n",
              "      border-right-color: var(--fill-color);\n",
              "      border-bottom-color: var(--fill-color);\n",
              "    }\n",
              "    90% {\n",
              "      border-color: transparent;\n",
              "      border-bottom-color: var(--fill-color);\n",
              "    }\n",
              "  }\n",
              "</style>\n",
              "\n",
              "  <script>\n",
              "    async function quickchart(key) {\n",
              "      const quickchartButtonEl =\n",
              "        document.querySelector('#' + key + ' button');\n",
              "      quickchartButtonEl.disabled = true;  // To prevent multiple clicks.\n",
              "      quickchartButtonEl.classList.add('colab-df-spinner');\n",
              "      try {\n",
              "        const charts = await google.colab.kernel.invokeFunction(\n",
              "            'suggestCharts', [key], {});\n",
              "      } catch (error) {\n",
              "        console.error('Error during call to suggestCharts:', error);\n",
              "      }\n",
              "      quickchartButtonEl.classList.remove('colab-df-spinner');\n",
              "      quickchartButtonEl.classList.add('colab-df-quickchart-complete');\n",
              "    }\n",
              "    (() => {\n",
              "      let quickchartButtonEl =\n",
              "        document.querySelector('#df-063570d4-e0d8-4ea5-a605-7e7e34f8e1c7 button');\n",
              "      quickchartButtonEl.style.display =\n",
              "        google.colab.kernel.accessAllowed ? 'block' : 'none';\n",
              "    })();\n",
              "  </script>\n",
              "</div>\n",
              "\n",
              "    </div>\n",
              "  </div>\n"
            ],
            "application/vnd.google.colaboratory.intrinsic+json": {
              "type": "dataframe",
              "variable_name": "netflix_movies1",
              "summary": "{\n  \"name\": \"netflix_movies1\",\n  \"rows\": 7787,\n  \"fields\": [\n    {\n      \"column\": \"show_id\",\n      \"properties\": {\n        \"dtype\": \"string\",\n        \"num_unique_values\": 7787,\n        \"samples\": [\n          \"s7325\",\n          \"s4695\",\n          \"s1323\"\n        ],\n        \"semantic_type\": \"\",\n        \"description\": \"\"\n      }\n    },\n    {\n      \"column\": \"type\",\n      \"properties\": {\n        \"dtype\": \"category\",\n        \"num_unique_values\": 2,\n        \"samples\": [\n          \"Movie\",\n          \"TV Show\"\n        ],\n        \"semantic_type\": \"\",\n        \"description\": \"\"\n      }\n    },\n    {\n      \"column\": \"title\",\n      \"properties\": {\n        \"dtype\": \"string\",\n        \"num_unique_values\": 7787,\n        \"samples\": [\n          \"Unchained: The Untold Story of Freestyle Motocross\",\n          \"Our Idiot Brother\"\n        ],\n        \"semantic_type\": \"\",\n        \"description\": \"\"\n      }\n    },\n    {\n      \"column\": \"director\",\n      \"properties\": {\n        \"dtype\": \"string\",\n        \"num_unique_values\": 4049,\n        \"samples\": [\n          \"Olivia Milch\",\n          \"Francisco Macri\"\n        ],\n        \"semantic_type\": \"\",\n        \"description\": \"\"\n      }\n    },\n    {\n      \"column\": \"cast\",\n      \"properties\": {\n        \"dtype\": \"string\",\n        \"num_unique_values\": 6831,\n        \"samples\": [\n          \"Nicola Lambo, Evan Boymel, John P. Fowler, Erica Duke, Ezra James Colbert\",\n          \"Jodie Whittaker, Warwick Davis, Jim Broadbent, Stephen Graham, Nonso Anozie, Rafe Spall, Ewen Bremner, Matt King\"\n        ],\n        \"semantic_type\": \"\",\n        \"description\": \"\"\n      }\n    },\n    {\n      \"column\": \"country\",\n      \"properties\": {\n        \"dtype\": \"category\",\n        \"num_unique_values\": 681,\n        \"samples\": [\n          \"Romania, United Kingdom\",\n          \"United States, United Arab Emirates\"\n        ],\n        \"semantic_type\": \"\",\n        \"description\": \"\"\n      }\n    },\n    {\n      \"column\": \"date_added\",\n      \"properties\": {\n        \"dtype\": \"object\",\n        \"num_unique_values\": 1565,\n        \"samples\": [\n          \"April 18, 2017\",\n          \"February 27, 2020\"\n        ],\n        \"semantic_type\": \"\",\n        \"description\": \"\"\n      }\n    },\n    {\n      \"column\": \"release_year\",\n      \"properties\": {\n        \"dtype\": \"number\",\n        \"std\": 8,\n        \"min\": 1925,\n        \"max\": 2021,\n        \"num_unique_values\": 73,\n        \"samples\": [\n          2008,\n          1969\n        ],\n        \"semantic_type\": \"\",\n        \"description\": \"\"\n      }\n    },\n    {\n      \"column\": \"rating\",\n      \"properties\": {\n        \"dtype\": \"category\",\n        \"num_unique_values\": 14,\n        \"samples\": [\n          \"PG\",\n          \"NC-17\"\n        ],\n        \"semantic_type\": \"\",\n        \"description\": \"\"\n      }\n    },\n    {\n      \"column\": \"duration\",\n      \"properties\": {\n        \"dtype\": \"category\",\n        \"num_unique_values\": 216,\n        \"samples\": [\n          \"230 min\",\n          \"253 min\"\n        ],\n        \"semantic_type\": \"\",\n        \"description\": \"\"\n      }\n    },\n    {\n      \"column\": \"listed_in\",\n      \"properties\": {\n        \"dtype\": \"category\",\n        \"num_unique_values\": 492,\n        \"samples\": [\n          \"Children & Family Movies, Dramas\",\n          \"Dramas, LGBTQ Movies\"\n        ],\n        \"semantic_type\": \"\",\n        \"description\": \"\"\n      }\n    },\n    {\n      \"column\": \"description\",\n      \"properties\": {\n        \"dtype\": \"string\",\n        \"num_unique_values\": 7769,\n        \"samples\": [\n          \"A middle-aged actress is cast in a film adaptation of the play that made her famous 20 years earlier, but in a much less glamorous role.\",\n          \"The life of a high-flying law student takes a drastic turn when a bout of misfortune changes his status in society for good.\"\n        ],\n        \"semantic_type\": \"\",\n        \"description\": \"\"\n      }\n    }\n  ]\n}"
            }
          },
          "metadata": {},
          "execution_count": 10
        }
      ],
      "source": [
        "# Dataset First Look\n",
        "netflix_movies1.head()"
      ]
    },
    {
      "cell_type": "code",
      "execution_count": null,
      "metadata": {
        "id": "j6ogsiOmkAOo"
      },
      "outputs": [],
      "source": [
        "netflix_movies1.tail()"
      ]
    },
    {
      "cell_type": "code",
      "execution_count": null,
      "metadata": {
        "id": "twSA2xwqsfMi"
      },
      "outputs": [],
      "source": [
        "netflix_movies1['title'].value_counts()"
      ]
    },
    {
      "cell_type": "markdown",
      "metadata": {
        "id": "7hBIi_osiCS2"
      },
      "source": [
        "### Dataset Rows & Columns count"
      ]
    },
    {
      "cell_type": "code",
      "execution_count": 11,
      "metadata": {
        "colab": {
          "base_uri": "https://localhost:8080/"
        },
        "id": "Kllu7SJgmLij",
        "outputId": "9f8d1548-9be9-4a6c-fd68-b435a532ad86"
      },
      "outputs": [
        {
          "output_type": "execute_result",
          "data": {
            "text/plain": [
              "RangeIndex(start=0, stop=7787, step=1)"
            ]
          },
          "metadata": {},
          "execution_count": 11
        }
      ],
      "source": [
        "# Dataset Rows & Columns count\n",
        "netflix_movies1.index"
      ]
    },
    {
      "cell_type": "code",
      "execution_count": 12,
      "metadata": {
        "colab": {
          "base_uri": "https://localhost:8080/"
        },
        "id": "yhUwivpGkLBl",
        "outputId": "47787c34-4e19-46da-8e9c-bdd7345f37b0"
      },
      "outputs": [
        {
          "output_type": "execute_result",
          "data": {
            "text/plain": [
              "(7787, 12)"
            ]
          },
          "metadata": {},
          "execution_count": 12
        }
      ],
      "source": [
        "netflix_movies1.shape"
      ]
    },
    {
      "cell_type": "code",
      "execution_count": null,
      "metadata": {
        "id": "LvLAIjLtkXLs"
      },
      "outputs": [],
      "source": [
        "netflix_movies1.columns"
      ]
    },
    {
      "cell_type": "markdown",
      "metadata": {
        "id": "JlHwYmJAmNHm"
      },
      "source": [
        "### Dataset Information"
      ]
    },
    {
      "cell_type": "code",
      "execution_count": 13,
      "metadata": {
        "colab": {
          "base_uri": "https://localhost:8080/"
        },
        "id": "e9hRXRi6meOf",
        "outputId": "2f7fcff1-8a5c-48ae-ba54-b6f2e389799d"
      },
      "outputs": [
        {
          "output_type": "stream",
          "name": "stdout",
          "text": [
            "<class 'pandas.core.frame.DataFrame'>\n",
            "RangeIndex: 7787 entries, 0 to 7786\n",
            "Data columns (total 12 columns):\n",
            " #   Column        Non-Null Count  Dtype \n",
            "---  ------        --------------  ----- \n",
            " 0   show_id       7787 non-null   object\n",
            " 1   type          7787 non-null   object\n",
            " 2   title         7787 non-null   object\n",
            " 3   director      5398 non-null   object\n",
            " 4   cast          7069 non-null   object\n",
            " 5   country       7280 non-null   object\n",
            " 6   date_added    7777 non-null   object\n",
            " 7   release_year  7787 non-null   int64 \n",
            " 8   rating        7780 non-null   object\n",
            " 9   duration      7787 non-null   object\n",
            " 10  listed_in     7787 non-null   object\n",
            " 11  description   7787 non-null   object\n",
            "dtypes: int64(1), object(11)\n",
            "memory usage: 730.2+ KB\n"
          ]
        }
      ],
      "source": [
        "# Dataset Info\n",
        "netflix_movies1.info()"
      ]
    },
    {
      "cell_type": "markdown",
      "metadata": {
        "id": "35m5QtbWiB9F"
      },
      "source": [
        "#### Duplicate Values"
      ]
    },
    {
      "cell_type": "code",
      "execution_count": 14,
      "metadata": {
        "colab": {
          "base_uri": "https://localhost:8080/"
        },
        "id": "1sLdpKYkmox0",
        "outputId": "423af080-11f8-4407-e3ac-fb8bb19fc9e9"
      },
      "outputs": [
        {
          "output_type": "execute_result",
          "data": {
            "text/plain": [
              "0"
            ]
          },
          "metadata": {},
          "execution_count": 14
        }
      ],
      "source": [
        "# Dataset Duplicate Value Count\n",
        "netflix_movies1.duplicated().sum()"
      ]
    },
    {
      "cell_type": "markdown",
      "metadata": {
        "id": "PoPl-ycgm1ru"
      },
      "source": [
        "#### Missing Values/Null Values"
      ]
    },
    {
      "cell_type": "code",
      "execution_count": 15,
      "metadata": {
        "colab": {
          "base_uri": "https://localhost:8080/"
        },
        "id": "GgHWkxvamxVg",
        "outputId": "719503cb-73fa-444b-9c02-ec23f66142c0"
      },
      "outputs": [
        {
          "output_type": "execute_result",
          "data": {
            "text/plain": [
              "show_id            0\n",
              "type               0\n",
              "title              0\n",
              "director        2389\n",
              "cast             718\n",
              "country          507\n",
              "date_added        10\n",
              "release_year       0\n",
              "rating             7\n",
              "duration           0\n",
              "listed_in          0\n",
              "description        0\n",
              "dtype: int64"
            ]
          },
          "metadata": {},
          "execution_count": 15
        }
      ],
      "source": [
        "# Missing Values/Null Values Count\n",
        "netflix_movies1.isnull().sum()"
      ]
    },
    {
      "cell_type": "code",
      "execution_count": 16,
      "metadata": {
        "colab": {
          "base_uri": "https://localhost:8080/"
        },
        "id": "xaOno-mblirD",
        "outputId": "e26f267e-4f33-4a0a-a2d4-f298cb9700bc"
      },
      "outputs": [
        {
          "output_type": "execute_result",
          "data": {
            "text/plain": [
              "3631"
            ]
          },
          "metadata": {},
          "execution_count": 16
        }
      ],
      "source": [
        "#total null values in the netflix Dataset\n",
        "netflix_movies1.isnull().sum().sum()"
      ]
    },
    {
      "cell_type": "code",
      "execution_count": 17,
      "metadata": {
        "id": "3q5wnI3om9sJ"
      },
      "outputs": [],
      "source": [
        "# Visualizing the missing values\n",
        "#Handling Null Values\n",
        "netflix_movies1['cast'].fillna(value='No cast',inplace=True)\n",
        "netflix_movies1['country'].fillna(value=netflix_movies1['country'].mode()[0],inplace=True)"
      ]
    },
    {
      "cell_type": "code",
      "execution_count": 18,
      "metadata": {
        "colab": {
          "base_uri": "https://localhost:8080/"
        },
        "id": "4eT0rjd8oP8R",
        "outputId": "1677b5b8-fa00-4cf3-b944-6d89f225276a"
      },
      "outputs": [
        {
          "output_type": "execute_result",
          "data": {
            "text/plain": [
              "(7787, 12)"
            ]
          },
          "metadata": {},
          "execution_count": 18
        }
      ],
      "source": [
        "netflix_movies1.shape"
      ]
    },
    {
      "cell_type": "markdown",
      "metadata": {
        "id": "H0kj-8xxnORC"
      },
      "source": [
        "### **What did you know about your dataset?**\n",
        "\n",
        "\n",
        "\n"
      ]
    },
    {
      "cell_type": "markdown",
      "metadata": {
        "id": "gfoNAAC-nUe_"
      },
      "source": [
        "**Answer Here**\n",
        "\n",
        "This dataset  contain information about various TV shows and movies available on Netflix, including details like the production country, release year, rating, duration, genre, and a description of each title. It consists of 12 columns and 7787 rows.\n"
      ]
    },
    {
      "cell_type": "markdown",
      "metadata": {
        "id": "nA9Y7ga8ng1Z"
      },
      "source": [
        "## ***2. Understanding Your Variables***"
      ]
    },
    {
      "cell_type": "code",
      "execution_count": 19,
      "metadata": {
        "colab": {
          "base_uri": "https://localhost:8080/"
        },
        "id": "j7xfkqrt5Ag5",
        "outputId": "f310582c-14e4-41d1-ca43-95a80673807d"
      },
      "outputs": [
        {
          "output_type": "execute_result",
          "data": {
            "text/plain": [
              "Index(['show_id', 'type', 'title', 'director', 'cast', 'country', 'date_added',\n",
              "       'release_year', 'rating', 'duration', 'listed_in', 'description'],\n",
              "      dtype='object')"
            ]
          },
          "metadata": {},
          "execution_count": 19
        }
      ],
      "source": [
        "# Dataset Columns\n",
        "netflix_movies1.columns"
      ]
    },
    {
      "cell_type": "code",
      "execution_count": 20,
      "metadata": {
        "colab": {
          "base_uri": "https://localhost:8080/",
          "height": 412
        },
        "id": "DnOaZdaE5Q5t",
        "outputId": "24ed526e-beed-477c-dddd-b580f4e2abba"
      },
      "outputs": [
        {
          "output_type": "execute_result",
          "data": {
            "text/plain": [
              "       show_id   type title                director     cast        country  \\\n",
              "count     7787   7787  7787                    5398     7787           7787   \n",
              "unique    7787      2  7787                    4049     6832            681   \n",
              "top         s1  Movie    3%  Raúl Campos, Jan Suter  No cast  United States   \n",
              "freq         1   5377     1                      18      718           3062   \n",
              "mean       NaN    NaN   NaN                     NaN      NaN            NaN   \n",
              "std        NaN    NaN   NaN                     NaN      NaN            NaN   \n",
              "min        NaN    NaN   NaN                     NaN      NaN            NaN   \n",
              "25%        NaN    NaN   NaN                     NaN      NaN            NaN   \n",
              "50%        NaN    NaN   NaN                     NaN      NaN            NaN   \n",
              "75%        NaN    NaN   NaN                     NaN      NaN            NaN   \n",
              "max        NaN    NaN   NaN                     NaN      NaN            NaN   \n",
              "\n",
              "             date_added  release_year rating  duration      listed_in  \\\n",
              "count              7777   7787.000000   7780      7787           7787   \n",
              "unique             1565           NaN     14       216            492   \n",
              "top     January 1, 2020           NaN  TV-MA  1 Season  Documentaries   \n",
              "freq                118           NaN   2863      1608            334   \n",
              "mean                NaN   2013.932580    NaN       NaN            NaN   \n",
              "std                 NaN      8.757395    NaN       NaN            NaN   \n",
              "min                 NaN   1925.000000    NaN       NaN            NaN   \n",
              "25%                 NaN   2013.000000    NaN       NaN            NaN   \n",
              "50%                 NaN   2017.000000    NaN       NaN            NaN   \n",
              "75%                 NaN   2018.000000    NaN       NaN            NaN   \n",
              "max                 NaN   2021.000000    NaN       NaN            NaN   \n",
              "\n",
              "                                              description  \n",
              "count                                                7787  \n",
              "unique                                               7769  \n",
              "top     Multiple women report their husbands as missin...  \n",
              "freq                                                    3  \n",
              "mean                                                  NaN  \n",
              "std                                                   NaN  \n",
              "min                                                   NaN  \n",
              "25%                                                   NaN  \n",
              "50%                                                   NaN  \n",
              "75%                                                   NaN  \n",
              "max                                                   NaN  "
            ],
            "text/html": [
              "\n",
              "  <div id=\"df-996bfc54-4e17-4acf-a787-70d706a4577c\" class=\"colab-df-container\">\n",
              "    <div>\n",
              "<style scoped>\n",
              "    .dataframe tbody tr th:only-of-type {\n",
              "        vertical-align: middle;\n",
              "    }\n",
              "\n",
              "    .dataframe tbody tr th {\n",
              "        vertical-align: top;\n",
              "    }\n",
              "\n",
              "    .dataframe thead th {\n",
              "        text-align: right;\n",
              "    }\n",
              "</style>\n",
              "<table border=\"1\" class=\"dataframe\">\n",
              "  <thead>\n",
              "    <tr style=\"text-align: right;\">\n",
              "      <th></th>\n",
              "      <th>show_id</th>\n",
              "      <th>type</th>\n",
              "      <th>title</th>\n",
              "      <th>director</th>\n",
              "      <th>cast</th>\n",
              "      <th>country</th>\n",
              "      <th>date_added</th>\n",
              "      <th>release_year</th>\n",
              "      <th>rating</th>\n",
              "      <th>duration</th>\n",
              "      <th>listed_in</th>\n",
              "      <th>description</th>\n",
              "    </tr>\n",
              "  </thead>\n",
              "  <tbody>\n",
              "    <tr>\n",
              "      <th>count</th>\n",
              "      <td>7787</td>\n",
              "      <td>7787</td>\n",
              "      <td>7787</td>\n",
              "      <td>5398</td>\n",
              "      <td>7787</td>\n",
              "      <td>7787</td>\n",
              "      <td>7777</td>\n",
              "      <td>7787.000000</td>\n",
              "      <td>7780</td>\n",
              "      <td>7787</td>\n",
              "      <td>7787</td>\n",
              "      <td>7787</td>\n",
              "    </tr>\n",
              "    <tr>\n",
              "      <th>unique</th>\n",
              "      <td>7787</td>\n",
              "      <td>2</td>\n",
              "      <td>7787</td>\n",
              "      <td>4049</td>\n",
              "      <td>6832</td>\n",
              "      <td>681</td>\n",
              "      <td>1565</td>\n",
              "      <td>NaN</td>\n",
              "      <td>14</td>\n",
              "      <td>216</td>\n",
              "      <td>492</td>\n",
              "      <td>7769</td>\n",
              "    </tr>\n",
              "    <tr>\n",
              "      <th>top</th>\n",
              "      <td>s1</td>\n",
              "      <td>Movie</td>\n",
              "      <td>3%</td>\n",
              "      <td>Raúl Campos, Jan Suter</td>\n",
              "      <td>No cast</td>\n",
              "      <td>United States</td>\n",
              "      <td>January 1, 2020</td>\n",
              "      <td>NaN</td>\n",
              "      <td>TV-MA</td>\n",
              "      <td>1 Season</td>\n",
              "      <td>Documentaries</td>\n",
              "      <td>Multiple women report their husbands as missin...</td>\n",
              "    </tr>\n",
              "    <tr>\n",
              "      <th>freq</th>\n",
              "      <td>1</td>\n",
              "      <td>5377</td>\n",
              "      <td>1</td>\n",
              "      <td>18</td>\n",
              "      <td>718</td>\n",
              "      <td>3062</td>\n",
              "      <td>118</td>\n",
              "      <td>NaN</td>\n",
              "      <td>2863</td>\n",
              "      <td>1608</td>\n",
              "      <td>334</td>\n",
              "      <td>3</td>\n",
              "    </tr>\n",
              "    <tr>\n",
              "      <th>mean</th>\n",
              "      <td>NaN</td>\n",
              "      <td>NaN</td>\n",
              "      <td>NaN</td>\n",
              "      <td>NaN</td>\n",
              "      <td>NaN</td>\n",
              "      <td>NaN</td>\n",
              "      <td>NaN</td>\n",
              "      <td>2013.932580</td>\n",
              "      <td>NaN</td>\n",
              "      <td>NaN</td>\n",
              "      <td>NaN</td>\n",
              "      <td>NaN</td>\n",
              "    </tr>\n",
              "    <tr>\n",
              "      <th>std</th>\n",
              "      <td>NaN</td>\n",
              "      <td>NaN</td>\n",
              "      <td>NaN</td>\n",
              "      <td>NaN</td>\n",
              "      <td>NaN</td>\n",
              "      <td>NaN</td>\n",
              "      <td>NaN</td>\n",
              "      <td>8.757395</td>\n",
              "      <td>NaN</td>\n",
              "      <td>NaN</td>\n",
              "      <td>NaN</td>\n",
              "      <td>NaN</td>\n",
              "    </tr>\n",
              "    <tr>\n",
              "      <th>min</th>\n",
              "      <td>NaN</td>\n",
              "      <td>NaN</td>\n",
              "      <td>NaN</td>\n",
              "      <td>NaN</td>\n",
              "      <td>NaN</td>\n",
              "      <td>NaN</td>\n",
              "      <td>NaN</td>\n",
              "      <td>1925.000000</td>\n",
              "      <td>NaN</td>\n",
              "      <td>NaN</td>\n",
              "      <td>NaN</td>\n",
              "      <td>NaN</td>\n",
              "    </tr>\n",
              "    <tr>\n",
              "      <th>25%</th>\n",
              "      <td>NaN</td>\n",
              "      <td>NaN</td>\n",
              "      <td>NaN</td>\n",
              "      <td>NaN</td>\n",
              "      <td>NaN</td>\n",
              "      <td>NaN</td>\n",
              "      <td>NaN</td>\n",
              "      <td>2013.000000</td>\n",
              "      <td>NaN</td>\n",
              "      <td>NaN</td>\n",
              "      <td>NaN</td>\n",
              "      <td>NaN</td>\n",
              "    </tr>\n",
              "    <tr>\n",
              "      <th>50%</th>\n",
              "      <td>NaN</td>\n",
              "      <td>NaN</td>\n",
              "      <td>NaN</td>\n",
              "      <td>NaN</td>\n",
              "      <td>NaN</td>\n",
              "      <td>NaN</td>\n",
              "      <td>NaN</td>\n",
              "      <td>2017.000000</td>\n",
              "      <td>NaN</td>\n",
              "      <td>NaN</td>\n",
              "      <td>NaN</td>\n",
              "      <td>NaN</td>\n",
              "    </tr>\n",
              "    <tr>\n",
              "      <th>75%</th>\n",
              "      <td>NaN</td>\n",
              "      <td>NaN</td>\n",
              "      <td>NaN</td>\n",
              "      <td>NaN</td>\n",
              "      <td>NaN</td>\n",
              "      <td>NaN</td>\n",
              "      <td>NaN</td>\n",
              "      <td>2018.000000</td>\n",
              "      <td>NaN</td>\n",
              "      <td>NaN</td>\n",
              "      <td>NaN</td>\n",
              "      <td>NaN</td>\n",
              "    </tr>\n",
              "    <tr>\n",
              "      <th>max</th>\n",
              "      <td>NaN</td>\n",
              "      <td>NaN</td>\n",
              "      <td>NaN</td>\n",
              "      <td>NaN</td>\n",
              "      <td>NaN</td>\n",
              "      <td>NaN</td>\n",
              "      <td>NaN</td>\n",
              "      <td>2021.000000</td>\n",
              "      <td>NaN</td>\n",
              "      <td>NaN</td>\n",
              "      <td>NaN</td>\n",
              "      <td>NaN</td>\n",
              "    </tr>\n",
              "  </tbody>\n",
              "</table>\n",
              "</div>\n",
              "    <div class=\"colab-df-buttons\">\n",
              "\n",
              "  <div class=\"colab-df-container\">\n",
              "    <button class=\"colab-df-convert\" onclick=\"convertToInteractive('df-996bfc54-4e17-4acf-a787-70d706a4577c')\"\n",
              "            title=\"Convert this dataframe to an interactive table.\"\n",
              "            style=\"display:none;\">\n",
              "\n",
              "  <svg xmlns=\"http://www.w3.org/2000/svg\" height=\"24px\" viewBox=\"0 -960 960 960\">\n",
              "    <path d=\"M120-120v-720h720v720H120Zm60-500h600v-160H180v160Zm220 220h160v-160H400v160Zm0 220h160v-160H400v160ZM180-400h160v-160H180v160Zm440 0h160v-160H620v160ZM180-180h160v-160H180v160Zm440 0h160v-160H620v160Z\"/>\n",
              "  </svg>\n",
              "    </button>\n",
              "\n",
              "  <style>\n",
              "    .colab-df-container {\n",
              "      display:flex;\n",
              "      gap: 12px;\n",
              "    }\n",
              "\n",
              "    .colab-df-convert {\n",
              "      background-color: #E8F0FE;\n",
              "      border: none;\n",
              "      border-radius: 50%;\n",
              "      cursor: pointer;\n",
              "      display: none;\n",
              "      fill: #1967D2;\n",
              "      height: 32px;\n",
              "      padding: 0 0 0 0;\n",
              "      width: 32px;\n",
              "    }\n",
              "\n",
              "    .colab-df-convert:hover {\n",
              "      background-color: #E2EBFA;\n",
              "      box-shadow: 0px 1px 2px rgba(60, 64, 67, 0.3), 0px 1px 3px 1px rgba(60, 64, 67, 0.15);\n",
              "      fill: #174EA6;\n",
              "    }\n",
              "\n",
              "    .colab-df-buttons div {\n",
              "      margin-bottom: 4px;\n",
              "    }\n",
              "\n",
              "    [theme=dark] .colab-df-convert {\n",
              "      background-color: #3B4455;\n",
              "      fill: #D2E3FC;\n",
              "    }\n",
              "\n",
              "    [theme=dark] .colab-df-convert:hover {\n",
              "      background-color: #434B5C;\n",
              "      box-shadow: 0px 1px 3px 1px rgba(0, 0, 0, 0.15);\n",
              "      filter: drop-shadow(0px 1px 2px rgba(0, 0, 0, 0.3));\n",
              "      fill: #FFFFFF;\n",
              "    }\n",
              "  </style>\n",
              "\n",
              "    <script>\n",
              "      const buttonEl =\n",
              "        document.querySelector('#df-996bfc54-4e17-4acf-a787-70d706a4577c button.colab-df-convert');\n",
              "      buttonEl.style.display =\n",
              "        google.colab.kernel.accessAllowed ? 'block' : 'none';\n",
              "\n",
              "      async function convertToInteractive(key) {\n",
              "        const element = document.querySelector('#df-996bfc54-4e17-4acf-a787-70d706a4577c');\n",
              "        const dataTable =\n",
              "          await google.colab.kernel.invokeFunction('convertToInteractive',\n",
              "                                                    [key], {});\n",
              "        if (!dataTable) return;\n",
              "\n",
              "        const docLinkHtml = 'Like what you see? Visit the ' +\n",
              "          '<a target=\"_blank\" href=https://colab.research.google.com/notebooks/data_table.ipynb>data table notebook</a>'\n",
              "          + ' to learn more about interactive tables.';\n",
              "        element.innerHTML = '';\n",
              "        dataTable['output_type'] = 'display_data';\n",
              "        await google.colab.output.renderOutput(dataTable, element);\n",
              "        const docLink = document.createElement('div');\n",
              "        docLink.innerHTML = docLinkHtml;\n",
              "        element.appendChild(docLink);\n",
              "      }\n",
              "    </script>\n",
              "  </div>\n",
              "\n",
              "\n",
              "<div id=\"df-2655ec77-0f0a-4d16-afa2-2e48645abb2a\">\n",
              "  <button class=\"colab-df-quickchart\" onclick=\"quickchart('df-2655ec77-0f0a-4d16-afa2-2e48645abb2a')\"\n",
              "            title=\"Suggest charts\"\n",
              "            style=\"display:none;\">\n",
              "\n",
              "<svg xmlns=\"http://www.w3.org/2000/svg\" height=\"24px\"viewBox=\"0 0 24 24\"\n",
              "     width=\"24px\">\n",
              "    <g>\n",
              "        <path d=\"M19 3H5c-1.1 0-2 .9-2 2v14c0 1.1.9 2 2 2h14c1.1 0 2-.9 2-2V5c0-1.1-.9-2-2-2zM9 17H7v-7h2v7zm4 0h-2V7h2v10zm4 0h-2v-4h2v4z\"/>\n",
              "    </g>\n",
              "</svg>\n",
              "  </button>\n",
              "\n",
              "<style>\n",
              "  .colab-df-quickchart {\n",
              "      --bg-color: #E8F0FE;\n",
              "      --fill-color: #1967D2;\n",
              "      --hover-bg-color: #E2EBFA;\n",
              "      --hover-fill-color: #174EA6;\n",
              "      --disabled-fill-color: #AAA;\n",
              "      --disabled-bg-color: #DDD;\n",
              "  }\n",
              "\n",
              "  [theme=dark] .colab-df-quickchart {\n",
              "      --bg-color: #3B4455;\n",
              "      --fill-color: #D2E3FC;\n",
              "      --hover-bg-color: #434B5C;\n",
              "      --hover-fill-color: #FFFFFF;\n",
              "      --disabled-bg-color: #3B4455;\n",
              "      --disabled-fill-color: #666;\n",
              "  }\n",
              "\n",
              "  .colab-df-quickchart {\n",
              "    background-color: var(--bg-color);\n",
              "    border: none;\n",
              "    border-radius: 50%;\n",
              "    cursor: pointer;\n",
              "    display: none;\n",
              "    fill: var(--fill-color);\n",
              "    height: 32px;\n",
              "    padding: 0;\n",
              "    width: 32px;\n",
              "  }\n",
              "\n",
              "  .colab-df-quickchart:hover {\n",
              "    background-color: var(--hover-bg-color);\n",
              "    box-shadow: 0 1px 2px rgba(60, 64, 67, 0.3), 0 1px 3px 1px rgba(60, 64, 67, 0.15);\n",
              "    fill: var(--button-hover-fill-color);\n",
              "  }\n",
              "\n",
              "  .colab-df-quickchart-complete:disabled,\n",
              "  .colab-df-quickchart-complete:disabled:hover {\n",
              "    background-color: var(--disabled-bg-color);\n",
              "    fill: var(--disabled-fill-color);\n",
              "    box-shadow: none;\n",
              "  }\n",
              "\n",
              "  .colab-df-spinner {\n",
              "    border: 2px solid var(--fill-color);\n",
              "    border-color: transparent;\n",
              "    border-bottom-color: var(--fill-color);\n",
              "    animation:\n",
              "      spin 1s steps(1) infinite;\n",
              "  }\n",
              "\n",
              "  @keyframes spin {\n",
              "    0% {\n",
              "      border-color: transparent;\n",
              "      border-bottom-color: var(--fill-color);\n",
              "      border-left-color: var(--fill-color);\n",
              "    }\n",
              "    20% {\n",
              "      border-color: transparent;\n",
              "      border-left-color: var(--fill-color);\n",
              "      border-top-color: var(--fill-color);\n",
              "    }\n",
              "    30% {\n",
              "      border-color: transparent;\n",
              "      border-left-color: var(--fill-color);\n",
              "      border-top-color: var(--fill-color);\n",
              "      border-right-color: var(--fill-color);\n",
              "    }\n",
              "    40% {\n",
              "      border-color: transparent;\n",
              "      border-right-color: var(--fill-color);\n",
              "      border-top-color: var(--fill-color);\n",
              "    }\n",
              "    60% {\n",
              "      border-color: transparent;\n",
              "      border-right-color: var(--fill-color);\n",
              "    }\n",
              "    80% {\n",
              "      border-color: transparent;\n",
              "      border-right-color: var(--fill-color);\n",
              "      border-bottom-color: var(--fill-color);\n",
              "    }\n",
              "    90% {\n",
              "      border-color: transparent;\n",
              "      border-bottom-color: var(--fill-color);\n",
              "    }\n",
              "  }\n",
              "</style>\n",
              "\n",
              "  <script>\n",
              "    async function quickchart(key) {\n",
              "      const quickchartButtonEl =\n",
              "        document.querySelector('#' + key + ' button');\n",
              "      quickchartButtonEl.disabled = true;  // To prevent multiple clicks.\n",
              "      quickchartButtonEl.classList.add('colab-df-spinner');\n",
              "      try {\n",
              "        const charts = await google.colab.kernel.invokeFunction(\n",
              "            'suggestCharts', [key], {});\n",
              "      } catch (error) {\n",
              "        console.error('Error during call to suggestCharts:', error);\n",
              "      }\n",
              "      quickchartButtonEl.classList.remove('colab-df-spinner');\n",
              "      quickchartButtonEl.classList.add('colab-df-quickchart-complete');\n",
              "    }\n",
              "    (() => {\n",
              "      let quickchartButtonEl =\n",
              "        document.querySelector('#df-2655ec77-0f0a-4d16-afa2-2e48645abb2a button');\n",
              "      quickchartButtonEl.style.display =\n",
              "        google.colab.kernel.accessAllowed ? 'block' : 'none';\n",
              "    })();\n",
              "  </script>\n",
              "</div>\n",
              "\n",
              "    </div>\n",
              "  </div>\n"
            ],
            "application/vnd.google.colaboratory.intrinsic+json": {
              "type": "dataframe",
              "summary": "{\n  \"name\": \"netflix_movies1\",\n  \"rows\": 11,\n  \"fields\": [\n    {\n      \"column\": \"show_id\",\n      \"properties\": {\n        \"dtype\": \"category\",\n        \"num_unique_values\": 3,\n        \"samples\": [\n          \"7787\",\n          \"s1\",\n          \"1\"\n        ],\n        \"semantic_type\": \"\",\n        \"description\": \"\"\n      }\n    },\n    {\n      \"column\": \"type\",\n      \"properties\": {\n        \"dtype\": \"category\",\n        \"num_unique_values\": 4,\n        \"samples\": [\n          2,\n          \"5377\",\n          \"7787\"\n        ],\n        \"semantic_type\": \"\",\n        \"description\": \"\"\n      }\n    },\n    {\n      \"column\": \"title\",\n      \"properties\": {\n        \"dtype\": \"category\",\n        \"num_unique_values\": 3,\n        \"samples\": [\n          \"7787\",\n          \"3%\",\n          \"1\"\n        ],\n        \"semantic_type\": \"\",\n        \"description\": \"\"\n      }\n    },\n    {\n      \"column\": \"director\",\n      \"properties\": {\n        \"dtype\": \"category\",\n        \"num_unique_values\": 4,\n        \"samples\": [\n          4049,\n          \"18\",\n          \"5398\"\n        ],\n        \"semantic_type\": \"\",\n        \"description\": \"\"\n      }\n    },\n    {\n      \"column\": \"cast\",\n      \"properties\": {\n        \"dtype\": \"category\",\n        \"num_unique_values\": 4,\n        \"samples\": [\n          6832,\n          \"718\",\n          \"7787\"\n        ],\n        \"semantic_type\": \"\",\n        \"description\": \"\"\n      }\n    },\n    {\n      \"column\": \"country\",\n      \"properties\": {\n        \"dtype\": \"category\",\n        \"num_unique_values\": 4,\n        \"samples\": [\n          681,\n          \"3062\",\n          \"7787\"\n        ],\n        \"semantic_type\": \"\",\n        \"description\": \"\"\n      }\n    },\n    {\n      \"column\": \"date_added\",\n      \"properties\": {\n        \"dtype\": \"date\",\n        \"min\": \"1970-01-01 00:00:00.000000118\",\n        \"max\": \"2020-01-01 00:00:00\",\n        \"num_unique_values\": 4,\n        \"samples\": [\n          1565,\n          \"118\",\n          \"7777\"\n        ],\n        \"semantic_type\": \"\",\n        \"description\": \"\"\n      }\n    },\n    {\n      \"column\": \"release_year\",\n      \"properties\": {\n        \"dtype\": \"number\",\n        \"std\": 2256.8293514970574,\n        \"min\": 8.757394618381273,\n        \"max\": 7787.0,\n        \"num_unique_values\": 8,\n        \"samples\": [\n          2013.932579940927,\n          2017.0,\n          7787.0\n        ],\n        \"semantic_type\": \"\",\n        \"description\": \"\"\n      }\n    },\n    {\n      \"column\": \"rating\",\n      \"properties\": {\n        \"dtype\": \"category\",\n        \"num_unique_values\": 4,\n        \"samples\": [\n          14,\n          \"2863\",\n          \"7780\"\n        ],\n        \"semantic_type\": \"\",\n        \"description\": \"\"\n      }\n    },\n    {\n      \"column\": \"duration\",\n      \"properties\": {\n        \"dtype\": \"category\",\n        \"num_unique_values\": 4,\n        \"samples\": [\n          216,\n          \"1608\",\n          \"7787\"\n        ],\n        \"semantic_type\": \"\",\n        \"description\": \"\"\n      }\n    },\n    {\n      \"column\": \"listed_in\",\n      \"properties\": {\n        \"dtype\": \"category\",\n        \"num_unique_values\": 4,\n        \"samples\": [\n          492,\n          \"334\",\n          \"7787\"\n        ],\n        \"semantic_type\": \"\",\n        \"description\": \"\"\n      }\n    },\n    {\n      \"column\": \"description\",\n      \"properties\": {\n        \"dtype\": \"category\",\n        \"num_unique_values\": 4,\n        \"samples\": [\n          7769,\n          \"3\",\n          \"7787\"\n        ],\n        \"semantic_type\": \"\",\n        \"description\": \"\"\n      }\n    }\n  ]\n}"
            }
          },
          "metadata": {},
          "execution_count": 20
        }
      ],
      "source": [
        "# Dataset Describe\n",
        "netflix_movies1.describe(include='all')"
      ]
    },
    {
      "cell_type": "markdown",
      "metadata": {
        "id": "PBTbrJXOngz2"
      },
      "source": [
        "### **Variables Description**"
      ]
    },
    {
      "cell_type": "markdown",
      "metadata": {
        "id": "aJV4KIxSnxay"
      },
      "source": [
        "**Attribute Information**\n",
        "\n",
        "**show_id :** Unique ID for every Movie / Tv Show\n",
        "\n",
        "**type :** Identifier - A Movie or TV Show\n",
        "\n",
        "**title :** Title of the Movie / Tv Show\n",
        "\n",
        "**director :** Director of the Movie\n",
        "\n",
        "**cast :** Actors involved in the Movie / Show\n",
        "\n",
        "**country :** Country where the Movie / Show was produced\n",
        "\n",
        "**date_added :** Date it was added on Netflix\n",
        "\n",
        "**release_year :** Actual Releaseyear of the Movie / Show\n",
        "\n",
        "**rating :** TV Rating of the Movie / Show\n",
        "\n",
        "**duration :** Total Duration - in minutes or number of seasons\n",
        "\n",
        "**listed_in :** Genre\n",
        "\n",
        "**description:** The Summary description of the Movie / Show\n",
        "\n"
      ]
    },
    {
      "cell_type": "markdown",
      "metadata": {
        "id": "u3PMJOP6ngxN"
      },
      "source": [
        "### Check Unique Values for each variable."
      ]
    },
    {
      "cell_type": "code",
      "execution_count": null,
      "metadata": {
        "id": "zms12Yq5n-jE"
      },
      "outputs": [],
      "source": [
        "# Check Unique Values for each variable.\n",
        "print(netflix_movies1.apply(lambda col: col.unique()))"
      ]
    },
    {
      "cell_type": "code",
      "execution_count": null,
      "metadata": {
        "id": "wk-9a2fpoLcV"
      },
      "outputs": [],
      "source": [
        "# Write your code to make your dataset analysis ready.\n",
        "# Create new features to store date, day, month and year seperately.\n",
        "netflix_movies1[\"date_added\"] = pd.to_datetime(netflix_movies1['date_added'])  # First convert date_added to date time format.\n",
        "netflix_movies1['day_added'] = netflix_movies1['date_added'].dt.day            # Compute day.\n",
        "netflix_movies1['year_added'] = netflix_movies1['date_added'].dt.year          # Compute year.\n",
        "netflix_movies1['month_added'] = netflix_movies1['date_added'].dt.month        # Compute month."
      ]
    },
    {
      "cell_type": "markdown",
      "metadata": {
        "id": "MSa1f5Uengrz"
      },
      "source": [
        "### **What all manipulations have you done and insights you found?**"
      ]
    },
    {
      "cell_type": "markdown",
      "metadata": {
        "id": "LbyXE7I1olp8"
      },
      "source": [
        "**Answer Here.**\n",
        "\n",
        "We can gather the following insights from the dataset:\n",
        "\n",
        "**Director:** There are missing values in the \"Director\" column.\n",
        "\n",
        "**Country:** There are missing values in the \"Country\" column, which have been filled with zero.\n",
        "\n",
        "**Cast:** There are missing values in the \"Cast\" column, which have been filled with \"No cast.\"\n",
        "\n",
        "**Date Added:** There are missing values in the \"Date Added\" column.\n",
        "\n",
        " **Duplicated entries have been identified in the dataset,sum is zero.Unique Values also in  each column has to find unique items from different columns.**\n",
        "\n",
        "**Date_added Column:** In the \"Date Added\" column, additional information has been extracted such as the day, month, and year.\n",
        "\n",
        "**In summary, the dataset contains missing values in the director, country, cast, and date added columns. The missing values in the cast column have been filled with \"No cast,\" and the missing values in the country column have been filled with zero. Duplicated entries have been identified, and the sum of values in one column is zero.** Each column has different unique values. Additionally, the date added column has been parsed to extract the day, month, and year.\n",
        "\n",
        "\n",
        "\n",
        "\n",
        "\n",
        "\n"
      ]
    },
    {
      "cell_type": "markdown",
      "metadata": {
        "id": "GF8Ens_Soomf"
      },
      "source": [
        "## ***3. Data Vizualization, Storytelling & Experimenting with charts : Understand the relationships between variables***"
      ]
    },
    {
      "cell_type": "markdown",
      "metadata": {
        "id": "0wOQAZs5pc--"
      },
      "source": [
        "#### Chart - 1"
      ]
    },
    {
      "cell_type": "code",
      "execution_count": null,
      "metadata": {
        "id": "7v_ESjsspbW7"
      },
      "outputs": [],
      "source": [
        "# Chart - 1 visualization code\n",
        "\n",
        "labels = ['TV Show', 'Movie']\n",
        "values = [netflix_movies1.type.value_counts()[1], netflix_movies1.type.value_counts()[0]]\n",
        "\n",
        "# Colors\n",
        "colors = ['#ffd700', '#008000']\n",
        "\n",
        "# Create pie chart\n",
        "fig = go.Figure(data=[go.Pie(labels=labels, values=values, hole=.8)])\n",
        "\n",
        "# Customize layout\n",
        "fig.update_layout(\n",
        "    title_text='Type of Content Watched on Netflix',\n",
        "    title_x=0.5,\n",
        "    height=500,\n",
        "    width=500,\n",
        "    legend=dict(x=0.9),\n",
        "    annotations=[dict(text='Type of Content', font_size=20, showarrow=False)]\n",
        ")\n",
        "\n",
        "# Set colors\n",
        "fig.update_traces(marker=dict(colors=colors))\n",
        "\n",
        "\n",
        "\n",
        "\n",
        "\n"
      ]
    },
    {
      "cell_type": "code",
      "execution_count": null,
      "metadata": {
        "id": "cJszzk6ZctDz"
      },
      "outputs": [],
      "source": [
        "from IPython.display import Image\n",
        "img_bytes = fig.to_image(format=\"jpeg\", width=800, height=800, scale=1)\n",
        "Image(img_bytes)"
      ]
    },
    {
      "cell_type": "markdown",
      "metadata": {
        "id": "K5QZ13OEpz2H"
      },
      "source": [
        "##### **1. Why did you pick the specific chart?**\n",
        "\n",
        "\n",
        "\n",
        "\n",
        "\n",
        "\n"
      ]
    },
    {
      "cell_type": "markdown",
      "metadata": {
        "id": "XESiWehPqBRc"
      },
      "source": [
        "Answer Here.\n",
        "\n",
        "The specific chart used in the code is a pie chart. I picked this chart because it is effective in visualizing the distribution of categorical data. In this case, the chart is used to represent the types of content watched on Netflix, which are categorized as \"TV Show\" and \"Movie.\""
      ]
    },
    {
      "cell_type": "markdown",
      "metadata": {
        "id": "lQ7QKXXCp7Bj"
      },
      "source": [
        "#####**2. What is/are the insight(s) found from the chart?**\n",
        "\n",
        "\n",
        "\n"
      ]
    },
    {
      "cell_type": "markdown",
      "metadata": {
        "id": "C_j1G7yiqdRP"
      },
      "source": [
        "**Answer Here**\n",
        "\n",
        "TV shows constitute the majority, accounting for 69.1% of the content watched on Netflix, while movies make up a smaller percentage of 30.9%."
      ]
    },
    {
      "cell_type": "markdown",
      "metadata": {
        "id": "448CDAPjqfQr"
      },
      "source": [
        "##### **3. Will the gained insights help creating a positive business impact?**\n",
        "**Are there any insights that lead to negative growth? Justify with specific reason.**"
      ]
    },
    {
      "cell_type": "markdown",
      "metadata": {
        "id": "3cspy4FjqxJW"
      },
      "source": [
        "Answer Here\n",
        "\n",
        "The data indicates a clear preference for TV shows over movies, with a significantly higher percentage of 69.1% compared to the lower percentage of 30.9% for movies. This suggests that people tend to enjoy shorter formats like TV shows rather than investing their time in longer movies that may be less engaging."
      ]
    },
    {
      "cell_type": "markdown",
      "metadata": {
        "id": "KSlN3yHqYklG"
      },
      "source": [
        "#### Chart - 2"
      ]
    },
    {
      "cell_type": "code",
      "execution_count": null,
      "metadata": {
        "id": "R4YgtaqtYklH"
      },
      "outputs": [],
      "source": [
        "# Chart - 2 visualization code\n",
        "import plotly.graph_objects as go\n",
        "import pandas as pd\n",
        "tv_show = netflix_movies1[netflix_movies1[\"type\"] == \"TV Show\"]\n",
        "movie = netflix_movies1[netflix_movies1[\"type\"] == \"Movie\"]\n",
        "\n",
        "col = \"year_added\"\n",
        "\n",
        "content_1 = tv_show[\"year_added\"].value_counts().sort_index()\n",
        "content_2 = movie[\"year_added\"].value_counts().sort_index()\n",
        "\n",
        "trace1 = go.Scatter(x=content_1.index, y=content_1.values, name=\"TV Shows\", marker=dict(color='#008000', line=dict(width=4)))\n",
        "trace2 = go.Scatter(x=content_2.index, y=content_2.values, name=\"Movies\", marker=dict(color='#ffd700', line=dict(width=4)))\n",
        "\n",
        "fig = go.Figure(data=[trace1, trace2], layout=go.Layout(title=\"Content added over the years\",title_x=0.5, legend=dict(x=0.8, y=1.1, orientation=\"h\")))\n",
        "# Display chart\n",
        "fig.show()"
      ]
    },
    {
      "cell_type": "code",
      "execution_count": null,
      "metadata": {
        "id": "m8LjSdJddO6n"
      },
      "outputs": [],
      "source": [
        "from IPython.display import Image\n",
        "img_bytes = fig.to_image(format=\"png\", width=1200, height=500, scale=1)\n",
        "Image(img_bytes)"
      ]
    },
    {
      "cell_type": "markdown",
      "metadata": {
        "id": "t6dVpIINYklI"
      },
      "source": [
        "##### **1. Why did you pick the specific chart?**"
      ]
    },
    {
      "cell_type": "markdown",
      "metadata": {
        "id": "5aaW0BYyYklI"
      },
      "source": [
        "**Answer Here.**\n",
        "\n",
        "The line chart is suitable for showing the trend and distribution of data over a continuous axis (in this case, the years). It allows for easy comparison between the two categories (TV shows and movies) and how their counts vary over time."
      ]
    },
    {
      "cell_type": "markdown",
      "metadata": {
        "id": "ijmpgYnKYklI"
      },
      "source": [
        "##### **2. What is/are the insight(s) found from the chart?**"
      ]
    },
    {
      "cell_type": "markdown",
      "metadata": {
        "id": "PSx9atu2YklI"
      },
      "source": [
        "**Answer Here**\n",
        "\n",
        "The trend in the visualization indicates that between 2008 and 2022, there were relatively fewer TV shows and movies added to Netflix. However, starting from 2016, there was a slight increase in content additions. In 2019, there was a significant peak in the number of movies added, while TV shows experienced a similar trend but with a lesser increase compared to movies."
      ]
    },
    {
      "cell_type": "markdown",
      "metadata": {
        "id": "-JiQyfWJYklI"
      },
      "source": [
        "##### **3. Will the gained insights help creating a positive business impact?**\n",
        "**Are there any insights that lead to negative growth? Justify with specific reason.**"
      ]
    },
    {
      "cell_type": "markdown",
      "metadata": {
        "id": "BcBbebzrYklV"
      },
      "source": [
        "**Answer Here**\n",
        "\n",
        "The gained insights indicate a positive impact for Netflix as the demand for both TV shows and movies on the platform has been increasing rapidly over the years. This growth presents an opportunity for Netflix to provide more high-quality content to its users, thereby enhancing user satisfaction and engagement."
      ]
    },
    {
      "cell_type": "markdown",
      "metadata": {
        "id": "EM7whBJCYoAo"
      },
      "source": [
        "#### Chart - 3"
      ]
    },
    {
      "cell_type": "code",
      "execution_count": null,
      "metadata": {
        "id": "t6GMdE67YoAp"
      },
      "outputs": [],
      "source": [
        "# Chart - 3 visualization code\n",
        "\n",
        "# Create a DataFrame to store month values and counts\n",
        "months_df = pd.DataFrame(netflix_movies1['month_added'].value_counts())\n",
        "\n",
        "# Reset the index to create a \"month\" column\n",
        "months_df.reset_index(inplace=True)\n",
        "\n",
        "# Rename the columns to \"month\" and \"count\"\n",
        "months_df.rename(columns={'index': 'month', 'month_added': 'count'}, inplace=True)\n"
      ]
    },
    {
      "cell_type": "code",
      "execution_count": null,
      "metadata": {
        "id": "V9-gIq40iZo7"
      },
      "outputs": [],
      "source": [
        "fig = px.bar(months_df, x=\"month\", y=\"count\", text_auto=True, color='count', color_continuous_scale=['#0000FF', '#FFFF00'])\n",
        "fig.update_layout(\n",
        "    title={\n",
        "        'text': 'Month wise Addition of Movies and TV Shows on Netflix',\n",
        "        'y':0.95,\n",
        "        'x':0.5,\n",
        "        'xanchor': 'center',\n",
        "        'yanchor': 'top'},\n",
        "        autosize=False,\n",
        "        width=1000,\n",
        "        height=500,\n",
        "        showlegend=True)\n",
        "# fig.show()\n",
        "fig.show()"
      ]
    },
    {
      "cell_type": "code",
      "execution_count": null,
      "metadata": {
        "id": "nD45WipFd3bd"
      },
      "outputs": [],
      "source": [
        "from IPython.display import Image\n",
        "img_bytes = fig.to_image(format=\"png\", width=1000, height=500, scale=1)\n",
        "Image(img_bytes)"
      ]
    },
    {
      "cell_type": "markdown",
      "metadata": {
        "id": "fge-S5ZAYoAp"
      },
      "source": [
        "#####**1. Why did you pick the specific chart?**"
      ]
    },
    {
      "cell_type": "markdown",
      "metadata": {
        "id": "5dBItgRVYoAp"
      },
      "source": [
        "**Answer Here.**\n",
        "\n",
        "The bar chart is suitable for comparing and displaying categorical data (months) and their corresponding counts.\n",
        "The chart helps in understanding the distribution of content additions across different months and identifying any patterns or trends."
      ]
    },
    {
      "cell_type": "markdown",
      "metadata": {
        "id": "85gYPyotYoAp"
      },
      "source": [
        "##### **2. What is/are the insight(s) found from the chart?**"
      ]
    },
    {
      "cell_type": "markdown",
      "metadata": {
        "id": "4jstXR6OYoAp"
      },
      "source": [
        "**Answer Here**\n",
        "\n",
        "During the months of October to December, there is a noticeable surge in the number of TV shows and movies being released on the Netflix platform.The months of October to December are known for having various holidays and celebrations, such as Halloween,\n",
        " Diwali, Thanksgiving, and Christmas, which often result in people spending more time at home and seeking entertainment options"
      ]
    },
    {
      "cell_type": "markdown",
      "metadata": {
        "id": "RoGjAbkUYoAp"
      },
      "source": [
        "#####**3. Will the gained insights help creating a positive business impact?**\n",
        "**Are there any insights that lead to negative growth? Justify with specific reason.**"
      ]
    },
    {
      "cell_type": "markdown",
      "metadata": {
        "id": "zfJ8IqMcYoAp"
      },
      "source": [
        "**Answer Here**\n",
        "\n",
        "The gained insights regarding the increase in TV shows and movies on the Netflix platform during the months of October to December can potentially create a positive business impact. Here are a few reasons:-\n",
        "\n",
        "**1-Meeting Seasonal Demand**\n",
        "\n",
        "**2-Retaining Existing Subscribers**\n",
        "\n",
        "**3-Attracting New Subscribers**\n",
        "\n"
      ]
    },
    {
      "cell_type": "markdown",
      "metadata": {
        "id": "4Of9eVA-YrdM"
      },
      "source": [
        "#### Chart - 4"
      ]
    },
    {
      "cell_type": "code",
      "execution_count": null,
      "metadata": {
        "id": "irlUoxc8YrdO"
      },
      "outputs": [],
      "source": [
        "# Chart - 4 visualization code\n",
        "import matplotlib.pyplot as plt\n",
        "import seaborn as sns\n",
        "fig, ax = plt.subplots(figsize=(15,6))\n",
        "sns.countplot(x='month_added', hue='type',lw=5, data=netflix_movies1, ax=ax,palette=['#FF0000' ,'#0000FF'])"
      ]
    },
    {
      "cell_type": "markdown",
      "metadata": {
        "id": "iky9q4vBYrdO"
      },
      "source": [
        "##### **1. Why did you pick the specific chart?**"
      ]
    },
    {
      "cell_type": "markdown",
      "metadata": {
        "id": "aJRCwT6DYrdO"
      },
      "source": [
        "**Answer Here.**\n",
        "\n",
        "By using a countplot, we can easily see and compare the frequencies of TV show and movie additions for each month."
      ]
    },
    {
      "cell_type": "markdown",
      "metadata": {
        "id": "F6T5p64dYrdO"
      },
      "source": [
        "##### **2. What is/are the insight(s) found from the chart?**"
      ]
    },
    {
      "cell_type": "markdown",
      "metadata": {
        "id": "Xx8WAJvtYrdO"
      },
      "source": [
        "**Answer Here**\n",
        "\n",
        "**Movies:**\n",
        "\n",
        "January, October, and December appear to be the trending months for movie additions on Netflix compared to other months.\n",
        "\n",
        "**Tv Shows:**\n",
        "\n",
        "October, November, and December emerge as the trending months for TV show additions on Netflix compared to other months.\n",
        "\n"
      ]
    },
    {
      "cell_type": "markdown",
      "metadata": {
        "id": "y-Ehk30pYrdP"
      },
      "source": [
        "##### **3. Will the gained insights help creating a positive business impact?**\n",
        "**Are there any insights that lead to negative growth? Justify with specific reason.**"
      ]
    },
    {
      "cell_type": "markdown",
      "metadata": {
        "id": "jLNxxz7MYrdP"
      },
      "source": [
        "**Answer Here**\n",
        "\n",
        "The gained insights regarding the trending months for movies and TV shows on Netflix can potentially create a positive business impact. Here's why:\n",
        "\n",
        "**1-Meeting Viewer Demand:**\n",
        "\n",
        "**2-Capitalizing on Seasonal Trends:**\n",
        "\n",
        "**3-Improved Competitiveness:**"
      ]
    },
    {
      "cell_type": "markdown",
      "metadata": {
        "id": "bamQiAODYuh1"
      },
      "source": [
        "#### Chart - 5"
      ]
    },
    {
      "cell_type": "code",
      "execution_count": null,
      "metadata": {
        "id": "TIJwrbroYuh3"
      },
      "outputs": [],
      "source": [
        "# Chart - 5 visualization code\n",
        "#Checking the distribution of Movie Durations\n",
        "plt.figure(figsize=(10,7))\n",
        "#Regular Expression pattern \\d is a regex pattern for digit + is a regex pattern for at leas\n",
        "sns.distplot(movie['duration'].str.extract('(\\d+)'),kde=False, color=['red'])\n",
        "plt.title('Distplot with Normal distribution for Movies and Tv shows',fontweight=\"bold\")\n",
        "plt.show()"
      ]
    },
    {
      "cell_type": "markdown",
      "metadata": {
        "id": "N0Ws_DMHkLiW"
      },
      "source": [
        "1.**Why did you pick the specific chart?**\n"
      ]
    },
    {
      "cell_type": "markdown",
      "metadata": {
        "id": "w1EOMtp4kTDJ"
      },
      "source": [
        "**Answer Here**\n",
        "\n",
        "The Distplot is a suitable choice for this analysis because it allows us to observe the frequency or count of movies falling into different duration ranges."
      ]
    },
    {
      "cell_type": "markdown",
      "metadata": {
        "id": "J4-CyK49krfS"
      },
      "source": [
        "2.**What is/are the insight(s) found from the chart?**"
      ]
    },
    {
      "cell_type": "markdown",
      "metadata": {
        "id": "wV3FpC86ksdn"
      },
      "source": [
        "**Answer Here**\n",
        "\n",
        "The average length of movies and TV shows falling within the range of 50 to 150 minutes can vary depending on the specific content available on Netflix."
      ]
    },
    {
      "cell_type": "markdown",
      "metadata": {
        "id": "BqhmILFHktdg"
      },
      "source": [
        "**3. Will the gained insights help creating a positive business impact?**\n",
        "**Are there any insights that lead to negative growth? Justify with specific reason.**"
      ]
    },
    {
      "cell_type": "markdown",
      "metadata": {
        "id": "JZ481nYrkump"
      },
      "source": [
        "**Answer Here**\n",
        "\n",
        "**Positive Business Impact:**\n",
        "\n",
        "1-**Audience Flexibility :** By offering movies and TV shows with a variety of lengths, ranging from shorter films to longer epic productions, Netflix can cater to the diverse preferences and schedules of its audience\n",
        "\n",
        "2-**Increased Engagement :** Movies and TV shows with varying lengths provide options for viewers to choose content that fits their available time. This can lead to increased engagement and longer viewing sessions\n",
        "\n",
        "3-**Content Diversity :** By including movies and TV shows of different lengths, Netflix can expand its content library and cater to various genres and storytelling formats."
      ]
    },
    {
      "cell_type": "code",
      "execution_count": null,
      "metadata": {
        "id": "F7tu_mgOtCyV"
      },
      "outputs": [],
      "source": [
        "#Checking the distribution of TV SHOWS\n",
        "plt.figure(figsize=(20,8))\n",
        "plt.title(\"Distribution of TV Shows duration\",fontweight='bold')\n",
        "sns.countplot(x=tv_show['duration'],data=tv_show,order = tv_show['duration'].value_counts().index)"
      ]
    },
    {
      "cell_type": "markdown",
      "metadata": {
        "id": "QHF8YVU7Yuh3"
      },
      "source": [
        "##### **1. Why did you pick the specific chart?**"
      ]
    },
    {
      "cell_type": "markdown",
      "metadata": {
        "id": "dcxuIMRPYuh3"
      },
      "source": [
        "**Answer Here.**\n",
        "\n",
        "The chart in question is a countplot, which is a type of bar chart that shows the frequency or count of each category in a categorical variable. It seems to be used to display the distribution of TV show seasons"
      ]
    },
    {
      "cell_type": "markdown",
      "metadata": {
        "id": "GwzvFGzlYuh3"
      },
      "source": [
        "##### **2. What is/are the insight(s) found from the chart?**"
      ]
    },
    {
      "cell_type": "markdown",
      "metadata": {
        "id": "uyqkiB8YYuh3"
      },
      "source": [
        "**Answer Here**\n",
        "\n",
        "From the chart, we observed that the majority of TV shows or web series in the dataset have only one season, while the remaining shows have a maximum of two, three, four, or five seasons."
      ]
    },
    {
      "cell_type": "markdown",
      "metadata": {
        "id": "qYpmQ266Yuh3"
      },
      "source": [
        "#####**3. Will the gained insights help creating a positive business impact?**\n",
        "**Are there any insights that lead to negative growth? Justify with specific reason.**"
      ]
    },
    {
      "cell_type": "markdown",
      "metadata": {
        "id": "_WtzZ_hCYuh4"
      },
      "source": [
        "**Answer Here**\n",
        "\n",
        "Yes ,**Positive Impact**  because by recognizing that the majority of TV shows have a limited number of seasons, content producers and streaming platforms can optimize their production planning. They can allocate resources more efficiently, reduce production costs, and potentially increase the output of content.\n"
      ]
    },
    {
      "cell_type": "markdown",
      "metadata": {
        "id": "OH-pJp9IphqM"
      },
      "source": [
        "#### Chart - 6"
      ]
    },
    {
      "cell_type": "code",
      "execution_count": null,
      "metadata": {
        "id": "kuRf4wtuphqN"
      },
      "outputs": [],
      "source": [
        "# Chart - 6 visualization code\n",
        "movie['originals'] = np.where(movie['release_year'] == movie['year_added'], 'Yes', 'No')\n",
        "# pie plot showing percentage of originals and others in movies\n",
        "fig, ax = plt.subplots(figsize=(5,5),facecolor=\"#660066\")\n",
        "ax.patch.set_facecolor(\"#660066\")\n",
        "explode = (0, 0.1)\n",
        "ax.pie(movie['originals'].value_counts(), explode=explode, autopct='%.2f%%', labels= ['Others', 'Originals'],\n",
        "       shadow=True, startangle=90,textprops={'color':\"blue\", 'fontsize': 25}, colors =['red','#F5E9F5'])"
      ]
    },
    {
      "cell_type": "markdown",
      "metadata": {
        "id": "bbFf2-_FphqN"
      },
      "source": [
        "##### **1. Why did you pick the specific chart?**"
      ]
    },
    {
      "cell_type": "markdown",
      "metadata": {
        "id": "loh7H2nzphqN"
      },
      "source": [
        "**Answer Here.**\n",
        "\n",
        "The pie plot is a suitable choice for visualizing the distribution of categorical data, such as the proportion of \"originals\" and \"others\" in this case. It allows you to see the relative sizes of each category as a portion of the whole."
      ]
    },
    {
      "cell_type": "markdown",
      "metadata": {
        "id": "_ouA3fa0phqN"
      },
      "source": [
        "##### **2. What is/are the insight(s) found from the chart?**"
      ]
    },
    {
      "cell_type": "markdown",
      "metadata": {
        "id": "VECbqPI7phqN"
      },
      "source": [
        "**Answer Here**\n",
        "\n",
        "Out of the movies available on Netflix, 30% are Netflix originals, while the remaining 70% are movies that were released earlier through different distribution channels and subsequently added to the Netflix"
      ]
    },
    {
      "cell_type": "markdown",
      "metadata": {
        "id": "Seke61FWphqN"
      },
      "source": [
        "##### **3. Will the gained insights help creating a positive business impact?**\n",
        "**Are there any insights that lead to negative growth? Justify with specific reason.**"
      ]
    },
    {
      "cell_type": "markdown",
      "metadata": {
        "id": "DW4_bGpfphqN"
      },
      "source": [
        "**Answer Here**\n",
        "\n",
        "Yes, gaining insights can indeed help create a positive business impact. By understanding the distribution of movies on Netflix, such as the proportion of Netflix originals versus non-originals, the streaming service can make informed decisions about content acquisition and production."
      ]
    },
    {
      "cell_type": "markdown",
      "metadata": {
        "id": "PIIx-8_IphqN"
      },
      "source": [
        "#### Chart - 7"
      ]
    },
    {
      "cell_type": "code",
      "execution_count": null,
      "metadata": {
        "id": "eVB-TsBGyKXT"
      },
      "outputs": [],
      "source": [
        "netflix_movies1['cast']"
      ]
    },
    {
      "cell_type": "code",
      "execution_count": null,
      "metadata": {
        "id": "VHcB8clCyT9I"
      },
      "outputs": [],
      "source": [
        "# seperating actors from cast column\n",
        "cast = netflix_movies1['cast'].str.split(', ', expand=True).stack()\n",
        "\n",
        "# top actors name who play highest role in movie/show.\n",
        "cast.value_counts()\n",
        ""
      ]
    },
    {
      "cell_type": "code",
      "execution_count": null,
      "metadata": {
        "id": "j7tw7D3RzERK"
      },
      "outputs": [],
      "source": [
        "cast =cast[cast != 'No cast']\n"
      ]
    },
    {
      "cell_type": "code",
      "execution_count": null,
      "metadata": {
        "id": "i6JqCajlzpRM"
      },
      "outputs": [],
      "source": [
        "cast.value_counts()"
      ]
    },
    {
      "cell_type": "code",
      "execution_count": null,
      "metadata": {
        "id": "lqAIGUfyphqO"
      },
      "outputs": [],
      "source": [
        "# Chart - 7 visualization code\n",
        "fig,ax = plt.subplots(1,2, figsize=(14,5))\n",
        "\n",
        "# seperating TV shows actor from cast column\n",
        "top_TVshows_actor = netflix_movies1[netflix_movies1['type']=='TV Show']['cast'].str.split(', ', expand=True).stack()\n",
        "top_TVshows_actor =top_TVshows_actor[top_TVshows_actor != 'No cast']\n",
        "# plotting actor who appeared in highest number of TV Show\n",
        "a = top_TVshows_actor.value_counts().head(10).plot(kind='barh', ax=ax[0],color='red')\n",
        "a.set_title('Top 10 TV shows actors', size=15)\n",
        "\n",
        "# seperating movie actor from cast column\n",
        "top_movie_actor = netflix_movies1[netflix_movies1['type']=='Movie']['cast'].str.split(', ', expand=True).stack()\n",
        "top_movie_actor =top_movie_actor[top_movie_actor != 'No cast']\n",
        "# plotting actor who appeared in highest number of Movie\n",
        "b = top_movie_actor.value_counts().head(10).plot(kind='barh', ax=ax[1],color='Cyan')\n",
        "b.set_title('Top 10 Movie actors', size=15)\n",
        "\n",
        "plt.tight_layout(pad=1.2, rect=[0, 0, 0.95, 0.95])\n",
        "plt.show()\n"
      ]
    },
    {
      "cell_type": "markdown",
      "metadata": {
        "id": "t27r6nlMphqO"
      },
      "source": [
        "##### **1. Why did you pick the specific chart?**"
      ]
    },
    {
      "cell_type": "markdown",
      "metadata": {
        "id": "iv6ro40sphqO"
      },
      "source": [
        "**Answer Here.**\n",
        "\n",
        "The horizontal orientation of the bars allows for easier reading and comparison of the values. The length of each bar represents the number of TV shows or movies an actor has appeared in. The chart also includes titles and is divided into two subplots, making it clear that one subplot represents TV shows and the other represents movies.\n"
      ]
    },
    {
      "cell_type": "markdown",
      "metadata": {
        "id": "r2jJGEOYphqO"
      },
      "source": [
        "##### **2. What is/are the insight(s) found from the chart?**"
      ]
    },
    {
      "cell_type": "markdown",
      "metadata": {
        "id": "Po6ZPi4hphqO"
      },
      "source": [
        "**Answer Here**\n",
        "\n",
        "In the TV shows category, the actor with the highest appearance is Takahiro Sakurai. In the movies category, the actor with the highest appearance is Anupam Kher."
      ]
    },
    {
      "cell_type": "markdown",
      "metadata": {
        "id": "OsNMrol7LFPw"
      },
      "source": [
        "**Chart - 8**"
      ]
    },
    {
      "cell_type": "code",
      "execution_count": null,
      "metadata": {
        "id": "vPCEgmuqsRdm"
      },
      "outputs": [],
      "source": [
        "# Chart - 8 visualization code\n",
        "top_10_Genre = netflix_movies1['listed_in'].value_counts().head(10)\n",
        "\n",
        "fig2 = px.pie(top_10_Genre, values=top_10_Genre.values, names=top_10_Genre.index)\n",
        "\n",
        "custom_colors = ['#4c78a8', '#72b7b2', '#ff7f0e', '#2ca02c', '#d62728']\n",
        "fig2.update_traces(hovertemplate=None, textposition='outside', textinfo='percent+label', rotation=0,\n",
        "                   marker=dict(colors=custom_colors))\n",
        "\n",
        "fig2.update_layout(height=600, width=900, title='Top 10 genres on Netflix',\n",
        "                   margin=dict(t=100, b=30, l=0, r=0),\n",
        "                   showlegend=False,\n",
        "                   plot_bgcolor='#fafafa',\n",
        "                   paper_bgcolor='#fafafa',\n",
        "                   title_font=dict(size=20, color='#555', family=\"Lato, sans-serif\"),\n",
        "                   font=dict(size=12, color='#FF0000'),\n",
        "                   hoverlabel=dict(bgcolor=\"#444\", font_size=13, font_family=\"Lato, sans-serif\"))\n",
        "\n",
        "fig2.show()"
      ]
    },
    {
      "cell_type": "code",
      "execution_count": null,
      "metadata": {
        "id": "jNh62LWteZOu"
      },
      "outputs": [],
      "source": [
        "from IPython.display import Image\n",
        "img_bytes = fig2.to_image(format=\"png\", width=1000, height=1000, scale=1)\n",
        "Image(img_bytes)"
      ]
    },
    {
      "cell_type": "markdown",
      "metadata": {
        "id": "xW5OMm7JtKVP"
      },
      "source": [
        "1.**Why did you pick the specific chart?**"
      ]
    },
    {
      "cell_type": "markdown",
      "metadata": {
        "id": "pi4pg3tAtK9h"
      },
      "source": [
        "**Answer Here.**\n",
        "\n",
        "The pie chart's circular shape allows viewers to quickly compare the sizes of different genres by observing the relative areas of the slices. The accompanying labels and percentage values outside the slices provide additional information and enhance the readability of the chart."
      ]
    },
    {
      "cell_type": "markdown",
      "metadata": {
        "id": "y7ZPukCEtLTY"
      },
      "source": [
        "2.**What is/are the insight(s) found from the chart?**"
      ]
    },
    {
      "cell_type": "markdown",
      "metadata": {
        "id": "Jm9ax_8ltLpU"
      },
      "source": [
        "**Answer Here.**\n",
        "\n",
        "In this chart, the top three genres on Netflix based on their distribution are:\n",
        "\n",
        "1-**Documentaries:** 14.4%\n",
        "\n",
        "2-**Stand-up Comedy:** 13.9%\n",
        "\n",
        "3-**Drama, International Movies:**1 3.8%\n",
        "\n",
        "These genres have the highest percentages compared to the other genres included in the top 10 list."
      ]
    },
    {
      "cell_type": "markdown",
      "metadata": {
        "id": "M1MXwj8jtL-3"
      },
      "source": [
        "3.**Will the gained insights help creating a positive business impact?**\n",
        "\n",
        "**Are there any insights that lead to negative growth? Justify with specific reason.**"
      ]
    },
    {
      "cell_type": "markdown",
      "metadata": {
        "id": "9BqMAPfZuuS3"
      },
      "source": [
        "**Answer Here.**\n",
        "\n",
        "The gained insights from analyzing the distribution of genres on Netflix can potentially help create a positive business impact in several ways\n",
        "\n",
        "1-**Content Curation :** By focusing on genres that have high viewer demand, Netflix can ensure that it offers a diverse and appealing selection of movies and shows to its subscribers\n",
        "\n",
        "2-**Targeted Acquisitions and Productions :** It can guide them in identifying genres that are in high demand and have a proven audience. This can optimize their investments in content creation and acquisition\n",
        "\n",
        "3-**Personalized Recommendations:** Personalized recommendations for individual users, improving their overall experience and encouraging them to spend more time on the platform.\n",
        "\n"
      ]
    },
    {
      "cell_type": "markdown",
      "metadata": {
        "id": "BZR9WyysphqO"
      },
      "source": [
        "#### Chart - 9"
      ]
    },
    {
      "cell_type": "code",
      "execution_count": null,
      "metadata": {
        "id": "TdPTWpAVphqO"
      },
      "outputs": [],
      "source": [
        "# Chart - 9 visualization code\n",
        "# Create subset of dataset with required data.\n",
        "conuntryVSgenre = netflix_movies1[['country', 'listed_in']]\n",
        "\n",
        "# Create a function to seperate all genres and store counts for each.\n",
        "def country_wise_genre(country):\n",
        "  country_genre = conuntryVSgenre[conuntryVSgenre['country'] == country]\n",
        "  #Next, the function joins all the genre strings together into a single long string using the \", \".join()\n",
        "  # method and then splits the long string into a list of individual genre strings using the split() method with \", \" as the separator.\n",
        "  country_genre = \", \".join(country_genre['listed_in'].dropna()).split(\", \")\n",
        "  country_genre_dict = dict(Counter(country_genre))\n",
        "  return country_genre_dict"
      ]
    },
    {
      "cell_type": "code",
      "execution_count": null,
      "metadata": {
        "id": "-ovGPPbx5rAe"
      },
      "outputs": [],
      "source": [
        "conuntryVSgenre"
      ]
    },
    {
      "cell_type": "code",
      "execution_count": null,
      "metadata": {
        "id": "8eJkjYea4z1M"
      },
      "outputs": [],
      "source": [
        "# Define list of top ten countries.\n",
        "country_list = ['United States', 'India', 'United Kingdom', 'Canada', 'Japan', 'France', 'South Korea', 'Spain', 'Mexico', 'Australia']\n",
        "# Create an empty dict to store values of each genre for each country.\n",
        "country_wise_genre_dict = {}\n",
        "# Iterate through all values in country_list.\n",
        "for i in country_list:\n",
        "  genre_data = country_wise_genre(i)\n",
        "  country_wise_genre_dict[i] = genre_data\n",
        "  country_genre_count_df = pd.DataFrame(country_wise_genre_dict).reset_index()\n",
        "  country_genre_count_df.rename({'index':'Genre'}, inplace=True, axis=1)"
      ]
    },
    {
      "cell_type": "code",
      "execution_count": null,
      "metadata": {
        "id": "IA_5OJPX5J0y"
      },
      "outputs": [],
      "source": [
        "country_genre_count_df"
      ]
    },
    {
      "cell_type": "code",
      "execution_count": null,
      "metadata": {
        "id": "ppQdTnJi5nB-"
      },
      "outputs": [],
      "source": [
        "# Plot the above data.\n",
        "df = country_genre_count_df\n",
        "\n",
        "# Define colours to be used.\n",
        "colors = ['aliceblue', 'brown', 'crimson', 'cyan', 'darkblue', 'darkmagenta', 'darkolivegreen', 'darkorange', 'darkturquoise', 'darkviolet', 'deeppink', 'forestgreen',\n",
        "          'fuchsia', 'gainsboro', 'goldenrod', 'gray','maroon', 'mediumaquamarine', 'mediumvioletred', 'midnightblue', 'orchid', 'palegoldenrod', 'palegreen', 'paleturquoise',\n",
        "          'plum', 'powderblue', 'purple', 'red', 'rosybrown', 'royalblue', 'saddlebrown', 'salmon', 'sandybrown','seagreen', 'seashell', 'sienna', 'silver', 'slategray', 'snow',\n",
        "          'springgreen', 'tomato','yellow', 'yellowgreen', 'darkred', 'lavender', 'lightcoral', 'navy', 'olive', 'teal', 'turquoise']\n",
        "\n",
        "\n",
        "# Create subplots, using 'domain' type for pie charts\n",
        "specs = [[{'type':'domain'}, {'type':'domain'}, {'type':'domain'}, {'type':'domain'}, {'type':'domain'}], [{'type':'domain'}, {'type':'domain'}, {'type':'domain'}, {'type':'domain'}, {'type':'domain'}]]\n",
        "fig = make_subplots(rows=2, cols=5, specs=specs, subplot_titles=['United States', 'India', 'United Kingdom', 'Canada', 'Japan', 'France', 'South Korea', 'Spain', 'Mexico', 'Australia'])\n",
        "\n",
        "# Define traces.\n",
        "fig.add_trace(go.Pie(labels=df['Genre'], values=df['United States'], name='United States'),1,1)\n",
        "fig.add_trace(go.Pie(labels=df['Genre'], values=df['India'],  name='India'),1,2)\n",
        "fig.add_trace(go.Pie(labels=df['Genre'], values=df['United Kingdom'],  name='United Kingdom'),1,3)\n",
        "fig.add_trace(go.Pie(labels=df['Genre'], values=df['Canada'],  name='Canada'),1,4)\n",
        "fig.add_trace(go.Pie(labels=df['Genre'], values=df['Japan'],  name='Japan'),1,5)\n",
        "fig.add_trace(go.Pie(labels=df['Genre'], values=df['France'],  name='France'),2,1)\n",
        "fig.add_trace(go.Pie(labels=df['Genre'], values=df['South Korea'],  name='South Korea'),2,2)\n",
        "fig.add_trace(go.Pie(labels=df['Genre'], values=df['Spain'],  name='Spain'),2,3)\n",
        "fig.add_trace(go.Pie(labels=df['Genre'], values=df['Mexico'],  name='Mexico'),2,4)\n",
        "fig.add_trace(go.Pie(labels=df['Genre'], values=df['Australia'],  name='Australia'),2,5)\n",
        "\n",
        "# Tune layout and hover info\n",
        "fig.update_traces(hoverinfo='label+percent+name', textinfo='none', marker=dict(colors=colors))\n",
        "fig.update_layout(title={'text': 'Top ten countries and the content they provide.',\n",
        "                          'y':0.97,\n",
        "                          'x':0.5,\n",
        "                          'font_size':25,\n",
        "                          'xanchor': 'center',\n",
        "                          'yanchor': 'top'},height=650, width=1550,paper_bgcolor='white',\n",
        "                  legend=dict(x=0.099,orientation=\"h\")\n",
        "                          )\n",
        "fig = go.Figure(fig)\n",
        "# fig.show()\n",
        "fig.show()"
      ]
    },
    {
      "cell_type": "code",
      "execution_count": null,
      "metadata": {
        "id": "bSn7cYKWeyaT"
      },
      "outputs": [],
      "source": [
        "from IPython.display import Image\n",
        "img_bytes = fig.to_image(format=\"png\", width=1400, height=800, scale=1)\n",
        "Image(img_bytes)"
      ]
    },
    {
      "cell_type": "markdown",
      "metadata": {
        "id": "jj7wYXLtphqO"
      },
      "source": [
        "##### **1. Why did you pick the specific chart?**"
      ]
    },
    {
      "cell_type": "markdown",
      "metadata": {
        "id": "Ob8u6rCTphqO"
      },
      "source": [
        "**Answer Here.**\n",
        "\n",
        " It is suitable for showing the distribution of different genres across multiple countries. Each pie chart represents a country, and the slices of the pie represent different genres. The size of each slice indicates the proportion of content in that genre for a particular country. This allows for easy comparison of genre distribution across countries in a visually appealing manner."
      ]
    },
    {
      "cell_type": "markdown",
      "metadata": {
        "id": "eZrbJ2SmphqO"
      },
      "source": [
        "##### **2. What is/are the insight(s) found from the chart?**"
      ]
    },
    {
      "cell_type": "markdown",
      "metadata": {
        "id": "mZtgC_hjphqO"
      },
      "source": [
        "Answer Here\n",
        "\n",
        "**Action & Adventure and Dramas are the most prevalent genres across all countries. They have the highest values in most countries, indicating their popularity.The United States has a diverse content offering across multiple genres, with a strong presence in Action & Adventure, Dramas, Comedies, and Documentaries**.\n",
        "\n",
        "\n",
        "**India has a significant focus on Independent Movies and Dramas, with relatively fewer offerings in other genres.**\n",
        "\n",
        "**The United Kingdom has a good balance between Drama, International TV Shows, and Documentaries.**\n",
        "\n",
        "**Australia's content offering is diverse, with a relatively balanced distribution across various genres such as Dramas, Comedies, International TV Shows, and Documentaries.**"
      ]
    },
    {
      "cell_type": "markdown",
      "metadata": {
        "id": "rFu4xreNphqO"
      },
      "source": [
        "##### **3. Will the gained insights help creating a positive business impact?**\n",
        "**Are there any insights that lead to negative growth? Justify with specific reason.**"
      ]
    },
    {
      "cell_type": "markdown",
      "metadata": {
        "id": "ey_0qi68phqO"
      },
      "source": [
        "**Answer Here**\n",
        "\n",
        "The gained insights can potentially help create a positive business impact in the following ways:\n",
        "\n",
        "1-**Targeted Content Strategy:** By understanding the genre preferences in different countries, businesses can develop a targeted content strategy that aligns with the interests of their target audience.\n",
        "\n",
        "2-**Market Expansion:**The insights can help businesses identify countries where their content genres are highly popular. This knowledge can guide expansion plans and investment in those markets, increasing the chances of success and profitability.\n",
        "\n",
        "3-**Content Localization:** Understanding the genre preferences in different countries can aid in content localization efforts. Adapting content to suit the local preferences can increase its appeal and viewership, potentially leading to business growth."
      ]
    },
    {
      "cell_type": "markdown",
      "metadata": {
        "id": "YJ55k-q6phqO"
      },
      "source": [
        "#### Chart - 10"
      ]
    },
    {
      "cell_type": "code",
      "execution_count": null,
      "metadata": {
        "id": "B2aS4O1ophqO"
      },
      "outputs": [],
      "source": [
        "# Chart - 10 visualization code\n",
        "# number of unique values\n",
        "netflix_movies1['release_year'].nunique()"
      ]
    },
    {
      "cell_type": "code",
      "execution_count": null,
      "metadata": {
        "id": "HslGuhpt-PuH"
      },
      "outputs": [],
      "source": [
        "print(f'Oldest release year : {netflix_movies1.release_year.min()}')\n",
        "print(f'Latest release year : {netflix_movies1.release_year.max()}')"
      ]
    },
    {
      "cell_type": "code",
      "execution_count": null,
      "metadata": {
        "id": "Zxpy11I2-fvv"
      },
      "outputs": [],
      "source": [
        "fig,ax = plt.subplots(1,2, figsize=(15,6))\n",
        "\n",
        "# Univariate analysis\n",
        "hist = sns.distplot(netflix_movies1['release_year'], ax=ax[0], kde=False,color='green')\n",
        "hist.set_title('Distribution by released year', size=20)\n",
        "\n",
        "# Bivariate analysis\n",
        "count = sns.countplot(x=\"release_year\", hue='type', data=netflix_movies1, order=netflix_movies1['release_year'].value_counts().index[0:15], ax=ax[1])\n",
        "count.set_title('Movie/TV shows released in top 15 year', size=15)\n",
        "plt.xticks(rotation=90)\n",
        "\n",
        "plt.tight_layout()\n",
        "plt.show()\n"
      ]
    },
    {
      "cell_type": "markdown",
      "metadata": {
        "id": "gCFgpxoyphqP"
      },
      "source": [
        "##### **1. Why did you pick the specific chart?**"
      ]
    },
    {
      "cell_type": "markdown",
      "metadata": {
        "id": "TVxDimi2phqP"
      },
      "source": [
        "Answer Here.\n",
        "\n",
        "The chosen chart combination of a histogram and a grouped bar plot allows for both univariate and bivariate analysis. The histogram provides an overview of the distribution of movie release years, while the bar plot allows for a comparison of the number of movies and TV shows released in the top 15 years."
      ]
    },
    {
      "cell_type": "markdown",
      "metadata": {
        "id": "OVtJsKN_phqQ"
      },
      "source": [
        "##### **2. What is/are the insight(s) found from the chart?**"
      ]
    },
    {
      "cell_type": "markdown",
      "metadata": {
        "id": "ngGi97qjphqQ"
      },
      "source": [
        "**Answer Here**\n",
        "\n",
        "The distribution of release years in the histogram shows a general trend of movies being released on Netflix starting from around 1980. The number of releases gradually increases, with significant growth observed from the year 2000 onwards. The highest peak in the distribution is observed between 2010 and 2020, indicating a high number of Movie/Tv shows releases during that period.\n",
        "\n",
        "In terms of content type (Movies, TV shows), the bar graph highlights that 2017 and 2020 demonstrate the highest trends. These years exhibit a significant number of movie releases, TV show releases, and a combination of both on Netflix."
      ]
    },
    {
      "cell_type": "markdown",
      "metadata": {
        "id": "lssrdh5qphqQ"
      },
      "source": [
        "##### **3. Will the gained insights help creating a positive business impact?**\n",
        "**Are there any insights that lead to negative growth? Justify with specific reason.**"
      ]
    },
    {
      "cell_type": "markdown",
      "metadata": {
        "id": "tBpY5ekJphqQ"
      },
      "source": [
        "**Answer Here**\n",
        "\n",
        "Yes, the gained insights can help create a positive business impact. By understanding the distribution of release years and identifying trends, businesses can make informed decisions regarding content acquisition, production, and marketing strategies."
      ]
    },
    {
      "cell_type": "markdown",
      "metadata": {
        "id": "U2RJ9gkRphqQ"
      },
      "source": [
        "#### Chart - 11"
      ]
    },
    {
      "cell_type": "code",
      "execution_count": null,
      "metadata": {
        "id": "GM7a4YP4phqQ"
      },
      "outputs": [],
      "source": [
        "# Chart - 11 visualization code\n",
        "#Ratings\n",
        "# number of unique values\n",
        "netflix_movies1.rating.nunique()"
      ]
    },
    {
      "cell_type": "markdown",
      "metadata": {
        "id": "RNgwKTLzhDLE"
      },
      "source": [
        "**Variables Description- Rating**\n",
        "\n",
        "- **TV-Y**: This rating means that the content is appropriate for all children. It is aimed at children aged 2-6 and may include educational programming.\n",
        "\n",
        "- **TV-Y7**: This rating means that the content is appropriate for children aged 7 and up. It may contain mild violence, comic mischief, or scary content that may not be suitable for younger children.\n",
        "\n",
        "- **TV-Y7-FV:** This rating means that the content is appropriate for children aged 7 and up, but may contain more intense violence. The \"FV\" stands for \"fantasy violence\".\n",
        "\n",
        "- **TV-G:** This rating means that the content is appropriate for all ages. It may contain mild language or violence, but nothing too intense.\n",
        "\n",
        "- **TV-PG:** This rating means that parental guidance is suggested. The content may contain material that parents might find inappropriate for younger children. It may include mild to moderate language, violence, or suggestive content.\n",
        "\n",
        "- **TV-14:** This rating means that the content is appropriate for viewers aged 14 and up. It may include intense violence, strong language, or sexual situations.\n",
        "\n",
        "- **TV-MA:** This rating means that the content is intended for mature audiences only. It may include graphic violence, explicit sexual content, or strong language.\n",
        "\n",
        "- **G**- This rating means that the content is appropriate for all ages. It is usually intended for young children and may include animated or family-friendly content.\n",
        "\n",
        "- **PG:** This rating means that parental guidance is suggested. The content may include mild violence, language, or suggestive themes.\n",
        "\n",
        "- **PG-13:**This rating means that the content is appropriate for teens aged 13 and up. It may include intense violence, language, or suggestive content.\n",
        "\n",
        "- **R:** This rating means that the content is intended for adults. It may include graphic violence, strong language, or nudity.\n",
        "\n",
        "- **NC-17:** This rating means that the content is intended for mature audiences only and may contain explicit sexual content or violence that is not suitable for minors.\n",
        "\n",
        "- **NR:** This rating means that no rating has been assigned yet or that the content is not rated by a particular board."
      ]
    },
    {
      "cell_type": "code",
      "execution_count": null,
      "metadata": {
        "id": "6B9ekpWKe1B1"
      },
      "outputs": [],
      "source": [
        "fig,ax = plt.subplots(1,2, figsize=(15,6))\n",
        "plt.suptitle('Top 10 rating for different age groups and audiences & Rating based on Movie and Tv_Shows',\n",
        "             weight='bold', y=1.02, size=18)\n",
        "\n",
        "# univariate analysis\n",
        "sns.countplot(x=\"rating\", data=netflix_movies1, order=netflix_movies1['rating'].value_counts().index[0:10], ax=ax[0])\n",
        "\n",
        "\n",
        "\n",
        "# bivariate analysis\n",
        "graph = sns.countplot(x=\"rating\", data=netflix_movies1, hue='type', order=netflix_movies1['rating'].value_counts().index[0:10], ax=ax[1])\n",
        "plt.xticks(rotation=90)\n",
        "\n",
        "plt.tight_layout()\n",
        "plt.show()"
      ]
    },
    {
      "cell_type": "markdown",
      "metadata": {
        "id": "1M8mcRywphqQ"
      },
      "source": [
        "#####**1. Why did you pick the specific chart?**"
      ]
    },
    {
      "cell_type": "markdown",
      "metadata": {
        "id": "8agQvks0phqQ"
      },
      "source": [
        "**Answer Here.**\n",
        "\n",
        " The chosen chart combination of two count plots allows for both univariate and bivariate analysis. The first plot provides insights into the top 10 ratings across all content, while the second plot offers a comparison of ratings specifically for movies and TV shows."
      ]
    },
    {
      "cell_type": "markdown",
      "metadata": {
        "id": "tgIPom80phqQ"
      },
      "source": [
        "##### **2. What is/are the insight(s) found from the chart?**"
      ]
    },
    {
      "cell_type": "markdown",
      "metadata": {
        "id": "Qp13pnNzphqQ"
      },
      "source": [
        "**Answer Here**\n",
        "\n",
        "**TV-MA:** This rating means that the content is intended for mature audiences only. It may include graphic violence, explicit sexual content, or strong language\n",
        "\n",
        "In terms of ratings, the most common rating is **TV-MA**, which applies to both movies and TV shows."
      ]
    },
    {
      "cell_type": "markdown",
      "metadata": {
        "id": "JMzcOPDDphqR"
      },
      "source": [
        "#####**3. Will the gained insights help creating a positive business impact?**\n",
        "**Are there any insights that lead to negative growth? Justify with specific reason.**"
      ]
    },
    {
      "cell_type": "markdown",
      "metadata": {
        "id": "R4Ka1PC2phqR"
      },
      "source": [
        "**Answer Here**\n",
        "\n",
        "The insight that **TV-MA** is the most common rating for both movies and TV shows can inform content strategies, audience targeting, programming decisions, and content diversity to drive positive business impact in terms of increased viewership and customer satisfaction"
      ]
    },
    {
      "cell_type": "markdown",
      "metadata": {
        "id": "x-EpHcCOp1ci"
      },
      "source": [
        "#### Chart - 12"
      ]
    },
    {
      "cell_type": "code",
      "execution_count": null,
      "metadata": {
        "id": "mAQTIvtqp1cj"
      },
      "outputs": [],
      "source": [
        "# Chart - 12 visualization code\n",
        "import folium\n",
        "\n",
        "# Create a map object\n",
        "fig = folium.Map(location=[20, 0], zoom_start=2,tiles='stamenterrain')\n",
        "import folium\n",
        "\n",
        "# Define a dictionary of country names, coordinates, and colors\n",
        "countries = {'United States': {'coords': [37.0902, -95.7129], 'color': 'red'},\n",
        "             'India': {'coords': [20.5937, 78.9629], 'color': 'green'},\n",
        "             'United Kingdom': {'coords': [55.3781, -3.4360], 'color': 'blue'},\n",
        "             'Canada': {'coords': [56.1304, -106.3468], 'color': 'orange'},\n",
        "             'Japan': {'coords': [36.2048, 138.2529], 'color': 'purple'},\n",
        "             'France': {'coords': [46.2276, 2.2137], 'color': 'pink'},\n",
        "             'South Korea': {'coords': [35.9078, 127.7669], 'color': 'gray'},\n",
        "             'Spain': {'coords': [40.4637, -3.7492], 'color': 'black'},\n",
        "             'Mexico': {'coords': [23.6345, -102.5528], 'color': 'brown'}}\n",
        "\n",
        "# Loop over the dictionary and add markers for each country\n",
        "for country, info in countries.items():\n",
        "    folium.Marker(location=info['coords'], tooltip=country,\n",
        "                   popup=f\"Color: {info['color']}\",\n",
        "                   icon=folium.Icon(color=info['color'])).add_to(fig)\n",
        "\n",
        "# Display the map\n",
        "fig\n",
        "\n",
        "\n",
        "\n"
      ]
    },
    {
      "cell_type": "markdown",
      "metadata": {
        "id": "n3dbpmDWp1ck"
      },
      "source": [
        "#### Chart - 13"
      ]
    },
    {
      "cell_type": "code",
      "execution_count": null,
      "metadata": {
        "id": "bwevp1tKp1ck"
      },
      "outputs": [],
      "source": [
        "# Chart - 13 visualization code\n",
        "# Replace the null values in director.\n",
        "netflix_movies1['director']=netflix_movies1['director'].fillna('')\n",
        ""
      ]
    },
    {
      "cell_type": "code",
      "execution_count": null,
      "metadata": {
        "id": "f95fvqDGob2j"
      },
      "outputs": [],
      "source": [
        "# Create a DataFrame with director counts\n",
        "directors_list = netflix_movies1.director.value_counts().reset_index().head(15)[1:]\n",
        "directors_list.rename(columns={'index':'Directors name', 'director':'Count'}, inplace=True)\n",
        "\n",
        "# Create a bar chart using Plotly\n",
        "fig = px.bar(directors_list, x='Directors name', y='Count', text_auto=True)\n",
        "\n",
        "# Generate a list of 25 unique color codes using seaborn\n",
        "color_palette = sns.color_palette('bright', n_colors=15).as_hex()\n",
        "fig.update_traces(marker_color=color_palette)\n",
        "\n",
        "# Add a title and adjust the layout\n",
        "fig.update_layout(\n",
        "    title={\n",
        "        'text': 'Top 25 directors with highest number of Movies and Tv Shows.',\n",
        "        'y': 0.95,\n",
        "        'x': 0.5,\n",
        "        'xanchor': 'center',\n",
        "        'yanchor': 'top'},\n",
        "    autosize=False,\n",
        "    width=1200,\n",
        "    height=500\n",
        ")\n",
        "\n",
        "# Show the plot\n",
        "fig.show()\n"
      ]
    },
    {
      "cell_type": "code",
      "execution_count": null,
      "metadata": {
        "id": "8k1wGyz9idyf"
      },
      "outputs": [],
      "source": [
        "from IPython.display import Image\n",
        "img_bytes = fig.to_image(format=\"png\", width=1400, height=800, scale=1)\n",
        "Image(img_bytes)"
      ]
    },
    {
      "cell_type": "code",
      "execution_count": null,
      "metadata": {
        "id": "RZ7Bfobl77X5"
      },
      "outputs": [],
      "source": [
        "directors_list"
      ]
    },
    {
      "cell_type": "markdown",
      "metadata": {
        "id": "ylSl6qgtp1ck"
      },
      "source": [
        "##### **1. Why did you pick the specific chart?**"
      ]
    },
    {
      "cell_type": "markdown",
      "metadata": {
        "id": "m2xqNkiQp1ck"
      },
      "source": [
        "**Answer Here.**\n",
        "\n",
        " The chosen chart effectively presents the data in an intuitive and visually appealing manner, allowing viewers to easily identify the directors with the most contributions on Netflix"
      ]
    },
    {
      "cell_type": "markdown",
      "metadata": {
        "id": "ZWILFDl5p1ck"
      },
      "source": [
        "##### **2. What is/are the insight(s) found from the chart?**"
      ]
    },
    {
      "cell_type": "markdown",
      "metadata": {
        "id": "x-lUsV2mp1ck"
      },
      "source": [
        "**Answer Here**\n",
        "\n",
        "The directors Raúl Campos and Jan Suter have the highest count in terms of overall Movies and TV shows on Netflix."
      ]
    },
    {
      "cell_type": "markdown",
      "metadata": {
        "id": "Ag9LCva-p1cl"
      },
      "source": [
        "#### Chart - 14"
      ]
    },
    {
      "cell_type": "code",
      "execution_count": null,
      "metadata": {
        "id": "aedSeZhOvHAg"
      },
      "outputs": [],
      "source": [
        "netflix_movies1['listed_in'].value_counts().head(25)"
      ]
    },
    {
      "cell_type": "code",
      "execution_count": null,
      "metadata": {
        "id": "6RhNA3fyxXK2"
      },
      "outputs": [],
      "source": [
        "import plotly.express as px\n",
        "import pandas as pd\n",
        "\n",
        "counts = netflix_movies1['listed_in'].value_counts().head(10)\n",
        "average = counts.mean()\n",
        "\n",
        "df = pd.DataFrame({'Category': counts.index, 'Count': counts.values})\n",
        "colors = px.colors.qualitative.Dark24[:10]\n",
        "fig = px.bar(df, x='Category', y='Count', color='Category', color_discrete_sequence=colors)\n",
        "fig.add_hline(y=average, line_color='red')\n",
        "fig.update_layout(title='Top 10 Average Genere with Count',title_x=0.3)\n",
        "\n",
        "fig.show()\n"
      ]
    },
    {
      "cell_type": "code",
      "execution_count": null,
      "metadata": {
        "id": "9AYLNHy0iv50"
      },
      "outputs": [],
      "source": [
        "from IPython.display import Image\n",
        "img_bytes = fig.to_image(format=\"png\", width=1300, height=800, scale=1)\n",
        "Image(img_bytes)"
      ]
    },
    {
      "cell_type": "markdown",
      "metadata": {
        "id": "E6MkPsBcp1cl"
      },
      "source": [
        "##### **1. Why did you pick the specific chart?**"
      ]
    },
    {
      "cell_type": "markdown",
      "metadata": {
        "id": "V22bRsFWp1cl"
      },
      "source": [
        "**Answer Here.**\n",
        "\n",
        "The chosen chart effectively presents the data, allowing viewers to easily compare the Average counts of different genres."
      ]
    },
    {
      "cell_type": "markdown",
      "metadata": {
        "id": "2cELzS2fp1cl"
      },
      "source": [
        "#####**2. What is/are the insight(s) found from the chart?**"
      ]
    },
    {
      "cell_type": "markdown",
      "metadata": {
        "id": "ozQPc2_Ip1cl"
      },
      "source": [
        "**Answer Here**\n",
        "\n",
        "The average count of genres in the top 10 categories lies between 200-250. The genre with the highest count among all the genres is Documentaries, with a count of 334."
      ]
    },
    {
      "cell_type": "markdown",
      "metadata": {
        "id": "3MPXvC8up1cl"
      },
      "source": [
        "##### **3. Will the gained insights help creating a positive business impact?**\n",
        "**Are there any insights that lead to negative growth? Justify with specific reason.**"
      ]
    },
    {
      "cell_type": "markdown",
      "metadata": {
        "id": "GL8l1tdLp1cl"
      },
      "source": [
        "**Answer Here**\n",
        "\n",
        "Yes, the gained insights can help create a positive business impact for a streaming platform like Netflix or any other company in the entertainment industry.These insights, companies can refine their content strategies, enhance viewer satisfaction, attract a larger audience, and ultimately drive positive business impact in terms of increased viewership, customer retention, and revenue growth\n"
      ]
    },
    {
      "cell_type": "markdown",
      "metadata": {
        "id": "NC_X3p0fY2L0"
      },
      "source": [
        "#### Chart - 15 - Correlation Heatmap"
      ]
    },
    {
      "cell_type": "code",
      "execution_count": null,
      "metadata": {
        "id": "xyC9zolEZNRQ"
      },
      "outputs": [],
      "source": [
        "# Correlation Heatmap visualization code\n",
        "#Assigning the Ratings into grouped categories\n",
        "ratings = {\n",
        "    'TV-PG': 'Older Kids',\n",
        "    'TV-MA': 'Adults',\n",
        "    'TV-Y7-FV': 'Older Kids',\n",
        "    'TV-Y7': 'Older Kids',\n",
        "    'TV-14': 'Teens',\n",
        "    'R': 'Adults',\n",
        "    'TV-Y': 'Kids',\n",
        "    'NR': 'Adults',\n",
        "    'PG-13': 'Teens',\n",
        "    'TV-G': 'Kids',\n",
        "    'PG': 'Older Kids',\n",
        "    'G': 'Kids',\n",
        "    'UR': 'Adults',\n",
        "    'NC-17': 'Adults'\n",
        "}\n",
        "netflix_movies1['target_ages'] = netflix_movies1['rating'].replace(ratings)\n",
        "\n"
      ]
    },
    {
      "cell_type": "code",
      "execution_count": null,
      "metadata": {
        "id": "SuFLSvfC2gB5"
      },
      "outputs": [],
      "source": [
        "# Preparing data for heatmap\n",
        "netflix_movies1['count'] = 1\n",
        "data = netflix_movies1.groupby('country')[['country','count']].sum().sort_values(by='count',ascending=False).reset_index()[:10]\n",
        "data = data['country']\n",
        "\n",
        "\n",
        "df_heatmap = netflix_movies1.loc[netflix_movies1['country'].isin(data)]\n",
        "df_heatmap = pd.crosstab(df_heatmap['country'],df_heatmap['target_ages'],normalize = \"index\").T\n",
        "df_heatmap"
      ]
    },
    {
      "cell_type": "code",
      "execution_count": null,
      "metadata": {
        "id": "ePKhBdCa4p90"
      },
      "outputs": [],
      "source": [
        "fig, ax = plt.subplots(1, 1, figsize=(12, 12))\n",
        "\n",
        "country_order2 = ['United States', 'India', 'United Kingdom', 'Canada', 'Japan', 'France', 'South Korea', 'Spain', 'Mexico']\n",
        "age_order = ['Adults', 'Teens', 'Older Kids', 'Kids']\n",
        "\n",
        "sns.heatmap(data=df_heatmap.loc[age_order, country_order2],\n",
        "            cmap='YlGnBu',\n",
        "            square=True,\n",
        "            linewidth=2.5,\n",
        "            cbar=False,\n",
        "            annot=True,\n",
        "            fmt='1.0%',\n",
        "            vmax=.6,\n",
        "            vmin=0.05,\n",
        "            ax=ax,\n",
        "            annot_kws={\"fontsize\": 12})\n",
        "plt.show()\n",
        "\n",
        "\n"
      ]
    },
    {
      "cell_type": "markdown",
      "metadata": {
        "id": "FUzG7HDTCpRp"
      },
      "source": [
        "**1. Why did you pick the specific chart?**\n"
      ]
    },
    {
      "cell_type": "markdown",
      "metadata": {
        "id": "Zu4FjWANCpf0"
      },
      "source": [
        "**Answer Here**\n",
        "\n",
        "A heatmap is a suitable choice when visualizing the relationships between two categorical variables, in this case, countries and age groups. It allows for a clear representation of patterns, trends, and comparisons across different categories."
      ]
    },
    {
      "cell_type": "markdown",
      "metadata": {
        "id": "YPEH6qLeZNRQ"
      },
      "source": [
        "##### **2. What is/are the insight(s) found from the chart?**"
      ]
    },
    {
      "cell_type": "markdown",
      "metadata": {
        "id": "bfSqtnDqZNRR"
      },
      "source": [
        "**Answer Here**\n",
        "\n",
        "In summary, the data provided suggests that the level of interest in the subject varies across different countries and target age groups. Here are the overall conclusions:\n",
        "\n",
        "Among the countries listed, Spain stands out with the highest percentage of adults showing interest at 84%. This indicates a strong interest in the subject among adults in Spain.\n",
        "\n",
        "1.**France**- Follows closely with 68% of adults expressing interest, demonstrating a significant level of engagement in the subject.\n",
        "\n",
        "2.**India**- It has the highest percentage of interest among teenagers, with 57% showing interest. This suggests a notable interest among the younger population in India.\n",
        "\n",
        "3.**United Kingdom** -It has a relatively high level of interest among adults, with 51% expressing interest.\n",
        "\n",
        "4.**Mexico**-Here ,also demonstrates a substantial level of interest, with 77% of adults showing interest in the subject.\n",
        "\n",
        "5.**South Korea** , **United States**- Both have 47% of adults showing interest, indicating a moderate level of engagement in these countries.\n",
        "\n",
        "6.**Japan**- It shows a moderate level of interest among both adults and teens, with 36% of each group expressing interest.\n",
        "\n",
        "7.**Canada**- It has the lowest percentage of interest among the listed countries, with 45% of adults showing interest.\n",
        "\n",
        "**Overall, these conclusions highlight the varying levels of interest in the subject among different countries and target age groups. The data indicates that Spain, France, India, and Mexico have higher levels of interest in the adults, while Canada has relatively lower interest compared to the other countries**."
      ]
    },
    {
      "cell_type": "markdown",
      "metadata": {
        "id": "bNogkLh5G95w"
      },
      "source": [
        "3.**Will the gained insights help creating a positive business impact?**"
      ]
    },
    {
      "cell_type": "markdown",
      "metadata": {
        "id": "FvoUs8SZHBgl"
      },
      "source": [
        "**Answer Here**\n",
        "\n",
        "The gained insights can potentially help in creating a positive business impact, depending on the context and specific business goals.\n",
        "\n",
        "1-Product Development\n",
        "\n",
        "2-Market Expansion\n",
        "\n",
        "3-Partnerships and Collaborations\n",
        "\n"
      ]
    },
    {
      "cell_type": "markdown",
      "metadata": {
        "id": "q29F0dvdveiT"
      },
      "source": [
        "#### Chart - 16 - Correlation Heatmap"
      ]
    },
    {
      "cell_type": "code",
      "execution_count": null,
      "metadata": {
        "id": "jZE7lpBItpe2"
      },
      "outputs": [],
      "source": [
        "netflix_movies1['count'] = 1\n",
        "data1 = netflix_movies1.groupby('listed_in')[['listed_in', 'count']].sum().sort_values(by='count', ascending=False).reset_index()[:10]\n",
        "data1 = data1['listed_in']\n"
      ]
    },
    {
      "cell_type": "code",
      "execution_count": null,
      "metadata": {
        "id": "MjY-5DtQy_yO"
      },
      "outputs": [],
      "source": [
        "data1"
      ]
    },
    {
      "cell_type": "code",
      "execution_count": null,
      "metadata": {
        "id": "flm2K4V6vjWk"
      },
      "outputs": [],
      "source": [
        "df_heatmap1 = netflix_movies1.loc[netflix_movies1['listed_in'].isin(data1)]\n",
        "df_heatmap1 = pd.crosstab(df_heatmap1['listed_in'],df_heatmap1['target_ages'],normalize = \"index\").T\n",
        "df_heatmap1"
      ]
    },
    {
      "cell_type": "code",
      "execution_count": null,
      "metadata": {
        "id": "--s21HC6rXHG"
      },
      "outputs": [],
      "source": [
        "fig, ax = plt.subplots(1, 1, figsize=(12, 12))\n",
        "\n",
        "top=['Documentaries', 'Stand-Up Comedy', 'Dramas, International Movies',\n",
        "       'Comedies, Dramas, International Movies',\n",
        "       'Dramas, Independent Movies, International Movies', \"Kids' TV\",\n",
        "       'Children & Family Movies', 'Documentaries, International Movies',\n",
        "       'Children & Family Movies, Comedies',\n",
        "       'Comedies, International Movies']\n",
        "age_order = ['Adults', 'Teens', 'Older Kids', 'Kids']\n",
        "\n",
        "sns.heatmap(data=df_heatmap1.loc[age_order, top],\n",
        "            cmap='YlGnBu',\n",
        "            square=True,\n",
        "            linewidth=2.5,\n",
        "            cbar=False,\n",
        "            annot=True,\n",
        "            fmt='1.0%',\n",
        "            vmax=.6,\n",
        "            vmin=0.05,\n",
        "            ax=ax,\n",
        "            annot_kws={\"fontsize\": 12})\n",
        "plt.show()\n",
        "\n",
        "\n"
      ]
    },
    {
      "cell_type": "markdown",
      "metadata": {
        "id": "EXh0U9oCveiU"
      },
      "source": [
        "##### **1. Why did you pick the specific chart?**\n",
        "\n"
      ]
    },
    {
      "cell_type": "markdown",
      "metadata": {
        "id": "eMmPjTByveiU"
      },
      "source": [
        "**Answer Here.**\n",
        "\n",
        "The heatmap is a suitable choice for this scenario because it allows me to represent the data using color encoding. The color intensity represents the frequency or proportion of movie genres within each age group."
      ]
    },
    {
      "cell_type": "markdown",
      "metadata": {
        "id": "22aHeOlLveiV"
      },
      "source": [
        "##### **2. What is/are the insight(s) found from the chart?**"
      ]
    },
    {
      "cell_type": "markdown",
      "metadata": {
        "id": "uPQ8RGwHveiV"
      },
      "source": [
        "**Answer Here**\n",
        "\n",
        "The genre with the highest target audience of 89% adults is stand-up comedy.Children & Family Movies,Comedies also have a significant target audience with 82%. Primarily catering to older kids ,adults, Kids & TV shows have a target audience of around 66% to 53%."
      ]
    },
    {
      "cell_type": "markdown",
      "metadata": {
        "id": "t-veXzxJMvxp"
      },
      "source": [
        "#### **Chart - 17**"
      ]
    },
    {
      "cell_type": "code",
      "execution_count": null,
      "metadata": {
        "id": "uQ5u3xL7TLI_"
      },
      "outputs": [],
      "source": [
        "country_count=netflix_movies1['country'].value_counts().sort_values(ascending=False)\n",
        "country_count=pd.DataFrame(country_count)\n",
        "topcountries=country_count[0:11]\n",
        "topcountries\n",
        "\n",
        "\n"
      ]
    },
    {
      "cell_type": "code",
      "execution_count": null,
      "metadata": {
        "id": "8C-Qjca2XQ2Z"
      },
      "outputs": [],
      "source": [
        "data3 = dict(\n",
        "    number=[3062, 923, 397, 226, 183, 177, 134, 115, 101, 100],\n",
        "    country=[\"United States\", \"India\", \"United Kingdom\", \"Canada\", \"Spain\", 'Turkey', 'Philippines', 'France',\n",
        "             'South Korea', 'Australia']\n",
        ")\n",
        "\n",
        "fig = px.funnel(data3,\n",
        "                x='number',\n",
        "                y='country',\n",
        "                title='Funnel Chart- Top 10 Countries by Number of Movies',\n",
        "                labels={'number': 'Number of Movies', 'country': 'Country'},\n",
        "                color_discrete_sequence=px.colors.qualitative.Plotly,\n",
        "                height=1000,\n",
        "                width=900,\n",
        "                template='plotly_dark'\n",
        "                )\n",
        "fig.show()\n"
      ]
    },
    {
      "cell_type": "code",
      "execution_count": null,
      "metadata": {
        "id": "_Em-HMLOjJ2s"
      },
      "outputs": [],
      "source": [
        "from IPython.display import Image\n",
        "img_bytes = fig.to_image(format=\"png\", width=1000, height=1200, scale=1)\n",
        "Image(img_bytes)"
      ]
    },
    {
      "cell_type": "markdown",
      "metadata": {
        "id": "0_EJLvbBzzOf"
      },
      "source": [
        "1.**Why did you pick the specific chart?**"
      ]
    },
    {
      "cell_type": "markdown",
      "metadata": {
        "id": "VMVk4qspzz2r"
      },
      "source": [
        "**Answer Here.**\n",
        "\n",
        " Funnel charts are often used to represent a gradual reduction in data as it moves through different stages or categories. In this case, the chart visualizes the number of movies in the top 10 countries, showcasing the decreasing count from the top to the bottom.\n",
        "\n"
      ]
    },
    {
      "cell_type": "markdown",
      "metadata": {
        "id": "I7awwy4Hz0Pc"
      },
      "source": [
        "2.**What is/are the insight(s) found from the chart?**"
      ]
    },
    {
      "cell_type": "markdown",
      "metadata": {
        "id": "dyJH021Gz0sx"
      },
      "source": [
        "**Answer Here.**\n",
        "\n",
        "The United States has the highest number of movies, with 3062 films, indicating a dominant presence in the film industry.India is the second-highest contributor with 923 movies, demonstrating a significant presence in the global Movies/Tv shows market.\n",
        "\n"
      ]
    },
    {
      "cell_type": "markdown",
      "metadata": {
        "id": "on-Xpsztz1SZ"
      },
      "source": [
        "3.**Will the gained insights help creating a positive business impact?**\n"
      ]
    },
    {
      "cell_type": "markdown",
      "metadata": {
        "id": "54HmJin31la3"
      },
      "source": [
        "**Answer Here.**\n",
        "\n",
        "Yes, the gained insights can help create a positive business impact in several ways:\n",
        "\n",
        "1-**Talent Acquisition :** This insight can be valuable for businesses looking to recruit skilled individuals in areas such as filmmaking, writing, acting, or technical roles.\n",
        "\n",
        "2**-Market Expansion:**The insights reveal countries with a significant number of movies, such as the United States and India. This information can guide businesses in expanding their operations and targeting these markets for distribution, marketing, and partnerships."
      ]
    },
    {
      "cell_type": "markdown",
      "metadata": {
        "id": "gxNAqWUhgUh2"
      },
      "source": [
        "# 4. **Hypothesis Testing**\n",
        "\n",
        "\n",
        "\n"
      ]
    },
    {
      "cell_type": "code",
      "execution_count": null,
      "metadata": {
        "id": "PIb7R_pI97H0"
      },
      "outputs": [],
      "source": [
        "#making copy of df_clean_frame\n",
        "netflix_hypothesis=netflix_movies1.copy()\n",
        "#head of df_hypothesis\n",
        "netflix_hypothesis.head()"
      ]
    },
    {
      "cell_type": "code",
      "execution_count": null,
      "metadata": {
        "id": "ah9AZbxD97xO"
      },
      "outputs": [],
      "source": [
        "#filtering movie from Type_of_show column\n",
        "netflix_hypothesis = netflix_hypothesis[netflix_hypothesis[\"type\"] == \"Movie\"]"
      ]
    },
    {
      "cell_type": "code",
      "execution_count": null,
      "metadata": {
        "id": "3ov9HY3p98QV"
      },
      "outputs": [],
      "source": [
        "#with respect to each ratings assigning it into group of categories\n",
        "ratings_ages = {\n",
        "    'TV-PG': 'Older Kids',\n",
        "    'TV-MA': 'Adults',\n",
        "    'TV-Y7-FV': 'Older Kids',\n",
        "    'TV-Y7': 'Older Kids',\n",
        "    'TV-14': 'Teens',\n",
        "    'R': 'Adults',\n",
        "    'TV-Y': 'Kids',\n",
        "    'NR': 'Adults',\n",
        "    'PG-13': 'Teens',\n",
        "    'TV-G': 'Kids',\n",
        "    'PG': 'Older Kids',\n",
        "    'G': 'Kids',\n",
        "    'UR': 'Adults',\n",
        "    'NC-17': 'Adults'\n",
        "}\n",
        "\n",
        "netflix_hypothesis['target_ages'] = netflix_hypothesis['rating'].replace(ratings_ages)\n",
        "#let's see unique target ages\n",
        "netflix_hypothesis['target_ages'].unique()"
      ]
    },
    {
      "cell_type": "code",
      "execution_count": null,
      "metadata": {
        "id": "_xL9bMVHBuuY"
      },
      "outputs": [],
      "source": [
        "netflix_hypothesis['target_ages'] = pd.Categorical(netflix_hypothesis['target_ages'], categories=['Kids', 'Older Kids', 'Teens', 'Adults'])\n",
        "\n",
        "netflix_hypothesis['duration'] = netflix_hypothesis['duration'].astype(str)  # Convert to string type\n",
        "netflix_hypothesis['duration'] = netflix_hypothesis['duration'].str.extract('(\\d+)')\n",
        "netflix_hypothesis['duration'] = pd.to_numeric(netflix_hypothesis['duration'])\n",
        "\n",
        "netflix_hypothesis.head(3)\n"
      ]
    },
    {
      "cell_type": "code",
      "execution_count": null,
      "metadata": {
        "id": "hhv38E1G98up"
      },
      "outputs": [],
      "source": [
        "#group_by duration and target_ages\n",
        "group_by_= netflix_hypothesis[['duration','target_ages']].groupby(by='target_ages')\n",
        "#mean of group_by variable\n",
        "group=group_by_.mean().reset_index()\n",
        "group"
      ]
    },
    {
      "cell_type": "code",
      "execution_count": null,
      "metadata": {
        "id": "ZL1z5fArDWOS"
      },
      "outputs": [],
      "source": [
        "#In A and B variable grouping values\n",
        "A= group_by_.get_group('Kids')\n",
        "B= group_by_.get_group('Older Kids')\n",
        "#mean and std. calutation for kids and older kids variables\n",
        "M1 = A.mean()\n",
        "S1 = A.std()\n",
        "\n",
        "M2= B.mean()\n",
        "S2 = B.std()\n",
        "\n",
        "print('Mean for movies rated for Kids {} \\n Mean for  movies rated for older kids {}'.format(M1,M2))\n",
        "print('Std for  movies rated for Older Kids {} \\n Std for  movies rated for kids {}'.format(S2,S1))"
      ]
    },
    {
      "cell_type": "code",
      "execution_count": null,
      "metadata": {
        "id": "Mfd9M9GDDXIh"
      },
      "outputs": [],
      "source": [
        "#import stats\n",
        "from scipy import stats\n",
        "#length of groups and DOF\n",
        "n1 = len(A)\n",
        "n2= len(B)\n",
        "print(n1,n2)\n",
        "\n",
        "dof = n1+n2-2\n",
        "print('dof',dof)\n",
        "\n",
        "sp_2 = ((n2-1)*S1**2  + (n1-1)*S2**2) / dof\n",
        "print('SP_2 =',sp_2)\n",
        "\n",
        "sp = np.sqrt(sp_2)\n",
        "print('SP',sp)\n",
        "\n",
        "#tvalue\n",
        "t_val = (M1-M2)/(sp * np.sqrt(1/n1 + 1/n2))\n",
        "print('tvalue',t_val[0])"
      ]
    },
    {
      "cell_type": "code",
      "execution_count": null,
      "metadata": {
        "id": "FOfcI8VTE82c"
      },
      "outputs": [],
      "source": [
        "#t-distribution\n",
        "stats.t.ppf(0.025,dof)\n"
      ]
    },
    {
      "cell_type": "code",
      "execution_count": null,
      "metadata": {
        "id": "2NxSYTRgFEyy"
      },
      "outputs": [],
      "source": [
        "#t-distribution\n",
        "stats.t.ppf(0.975,dof)"
      ]
    },
    {
      "cell_type": "markdown",
      "metadata": {
        "id": "kZn1xO7Pgg1x"
      },
      "source": [
        "**Based on your chart experiments, define two hypothetical statements from the dataset. In the next two questions, perform hypothesis testing to obtain final conclusion about the statements through your code and statistical testing.**"
      ]
    },
    {
      "cell_type": "markdown",
      "metadata": {
        "id": "0yMOpgyigqjK"
      },
      "source": [
        "**Hypothetical Statement - 1**"
      ]
    },
    {
      "cell_type": "markdown",
      "metadata": {
        "id": "-gIwU9D8guuE"
      },
      "source": [
        "**1.State Your research hypothesis as a null hypothesis and alternate hypothesis.**"
      ]
    },
    {
      "cell_type": "markdown",
      "metadata": {
        "id": "D5jTe0eeg3oz"
      },
      "source": [
        "**Answer Here.**\n",
        "\n",
        "HO:Movies rated for kids and older kids are at least two hours long.(Null Hypothesis)\n",
        "\n",
        "H1:Movies rated for kids and older kids are not at least two hours long.(Alternate Hypothesis)"
      ]
    },
    {
      "cell_type": "markdown",
      "metadata": {
        "id": "MmfNEEQGg7aA"
      },
      "source": [
        "2.Perform an appropriate statistical test.\n",
        "\n",
        "\n",
        "\n"
      ]
    },
    {
      "cell_type": "code",
      "execution_count": null,
      "metadata": {
        "id": "Bn_zdviBFy1v"
      },
      "outputs": [],
      "source": [
        "#t-distribution\n",
        "stats.t.ppf(0.025,dof)"
      ]
    },
    {
      "cell_type": "code",
      "execution_count": null,
      "metadata": {
        "id": "HAAfNuTHFzpW"
      },
      "outputs": [],
      "source": [
        "#t-distribution\n",
        "stats.t.ppf(0.975,dof)"
      ]
    },
    {
      "cell_type": "markdown",
      "metadata": {
        "id": "puQ3RsidhCD7"
      },
      "source": [
        "**Answer Here.**\n",
        "\n",
        "**t-value** is not in the range, the **null hypothesis is rejecte**d.\n",
        "\n",
        "**As a result, movies rated for kids and older kids are not at least two hours long.**"
      ]
    },
    {
      "cell_type": "markdown",
      "metadata": {
        "id": "G9-8O0Gnh1D5"
      },
      "source": [
        "**Hypothetical Statement - 2**"
      ]
    },
    {
      "cell_type": "markdown",
      "metadata": {
        "id": "mxWb4D-yh35T"
      },
      "source": [
        "**1.State Your research hypothesis as a null hypothesis .**"
      ]
    },
    {
      "cell_type": "markdown",
      "metadata": {
        "id": "DeRdUTrhh-ES"
      },
      "source": [
        "**Answer Here.**\n",
        "\n",
        "H1:The duration which is more than 90 mins are movies\n",
        "\n",
        "HO:The duration which is more than 90 mins are NOT movies\n",
        "\n",
        "\n",
        "\n"
      ]
    },
    {
      "cell_type": "code",
      "execution_count": null,
      "metadata": {
        "id": "ePqJlMQYIyCi"
      },
      "outputs": [],
      "source": [
        "#making copy of df_clean_frame\n",
        "netflix_hypothesis=netflix_movies1.copy()\n",
        "#head of df_hypothesis\n",
        "netflix_hypothesis.head()"
      ]
    },
    {
      "cell_type": "code",
      "execution_count": null,
      "metadata": {
        "id": "cWh7t8ExJPRW"
      },
      "outputs": [],
      "source": [
        "netflix_hypothesis['duration']= netflix_hypothesis['duration'].str.extract('(\\d+)')\n",
        "netflix_hypothesis['duration'] = pd.to_numeric(netflix_hypothesis['duration'])"
      ]
    },
    {
      "cell_type": "code",
      "execution_count": null,
      "metadata": {
        "id": "OdLRe79AIzE_"
      },
      "outputs": [],
      "source": [
        "netflix_hypothesis['type'] = pd.Categorical(netflix_hypothesis['type'], categories=['Movie','TV Show'])\n",
        "#from duration feature extractin string part and after extracting Changing the object type to numeric\n",
        "#df_hypothesis['duration']= df_hypothesis['duration'].str.extract('(\\d+)')\n",
        "#df_hypothesis['duration'] = pd.to_numeric(df_hypothesis['duration'])\n",
        "#head of df_\n",
        "netflix_hypothesis.head(3)"
      ]
    },
    {
      "cell_type": "code",
      "execution_count": null,
      "metadata": {
        "id": "zUFtzIpuICX6"
      },
      "outputs": [],
      "source": [
        "netflix_hypothesis['type'] = pd.Categorical(netflix_hypothesis['type'], categories=['Movie','TV Show'])"
      ]
    },
    {
      "cell_type": "code",
      "execution_count": null,
      "metadata": {
        "id": "vQ_CPY-VhN2T"
      },
      "outputs": [],
      "source": [
        "# Perform Statistical Test to obtain P-Value\n",
        "#group_by duration and TYPE\n",
        "group_by_= netflix_hypothesis[['duration','type']].groupby(by='type')\n",
        "#mean of group_by variable\n",
        "group1=group_by_.mean().reset_index()\n",
        "group1"
      ]
    },
    {
      "cell_type": "code",
      "execution_count": null,
      "metadata": {
        "id": "_KccLtdlIf27"
      },
      "outputs": [],
      "source": [
        "#In A and B variable grouping values\n",
        "A= group_by_.get_group('Movie')\n",
        "B= group_by_.get_group('TV Show')\n",
        "#mean and std\n",
        "M1 = A.mean()\n",
        "S1 = A.std()\n",
        "\n",
        "M2= B.mean()\n",
        "S2 = B.std()\n",
        "\n",
        "print('Mean  {}'.format(M1,M2))\n",
        "print('Std  {}'.format(S2,S1))"
      ]
    },
    {
      "cell_type": "code",
      "execution_count": null,
      "metadata": {
        "id": "HCpNPbbSJ1RG"
      },
      "outputs": [],
      "source": [
        "#import stats\n",
        "from scipy import stats\n",
        "#length of groups and DOF\n",
        "n1 = len(A)\n",
        "n2= len(B)\n",
        "print(n1,n2)\n",
        "\n",
        "dof = n1+n2-2\n",
        "print('dof',dof)\n",
        "\n",
        "sp_2 = ((n2-1)*S1**2  + (n1-1)*S2**2) / dof\n",
        "print('SP_2 =',sp_2)\n",
        "\n",
        "sp = np.sqrt(sp_2)\n",
        "print('SP',sp)\n",
        "\n",
        "#tvalue\n",
        "t_val = (M1-M2)/(sp * np.sqrt(1/n1 + 1/n2))\n",
        "print('tvalue',t_val[0])"
      ]
    },
    {
      "cell_type": "markdown",
      "metadata": {
        "id": "QEp3ugwlhRXz"
      },
      "source": [
        "Which statistical test have you done to obtain P-Value?\n",
        "\n",
        "\n",
        "t-distribution\n",
        "\n",
        "\n",
        "\n"
      ]
    },
    {
      "cell_type": "code",
      "execution_count": null,
      "metadata": {
        "id": "KHn8f2_NroI-"
      },
      "outputs": [],
      "source": [
        "# Perform Statistical Test to obtain P-Value"
      ]
    },
    {
      "cell_type": "code",
      "execution_count": null,
      "metadata": {
        "id": "cy2hC6uaJ-mv"
      },
      "outputs": [],
      "source": [
        "#t-distribution\n",
        "stats.t.ppf(0.025,dof)"
      ]
    },
    {
      "cell_type": "code",
      "execution_count": null,
      "metadata": {
        "id": "DMKvXgGkJ_ey"
      },
      "outputs": [],
      "source": [
        "#t-distribution\n",
        "stats.t.ppf(0.975,dof)"
      ]
    },
    {
      "cell_type": "markdown",
      "metadata": {
        "id": "x_vqblYOhaCP"
      },
      "source": [
        "**Answer Here.**\n",
        "\n",
        "Because the t-value is not in the range, the null hypothesis is rejected.\n",
        "\n",
        "**As a result, The duration which is more than 90 mins are movies**"
      ]
    },
    {
      "cell_type": "markdown",
      "metadata": {
        "id": "5YiM6GAAtlYp"
      },
      "source": [
        "# **5. Feature Engineering & Data Pre-processing**"
      ]
    },
    {
      "cell_type": "code",
      "execution_count": null,
      "metadata": {
        "id": "z-k8nwK3tt1j"
      },
      "outputs": [],
      "source": [
        "# Combining all the clustering attributes into a single column\n",
        "netflix_movies1['clustering'] = (netflix_movies1['director'] + ' ' + netflix_movies1['cast'] +' ' +\n",
        "                                 netflix_movies1['country'] +' ' + netflix_movies1['listed_in'] +\n",
        "                                 ' ' + netflix_movies1['description'])\n"
      ]
    },
    {
      "cell_type": "code",
      "execution_count": null,
      "metadata": {
        "id": "0PYEimoatuKr"
      },
      "outputs": [],
      "source": [
        "netflix_movies1['clustering'][25]"
      ]
    },
    {
      "cell_type": "markdown",
      "metadata": {
        "id": "vUNflO64i7-t"
      },
      "source": [
        "# **Textual Data Preprocessing**"
      ]
    },
    {
      "cell_type": "code",
      "execution_count": null,
      "metadata": {
        "id": "7tU8XgYZtuVp"
      },
      "outputs": [],
      "source": [
        "# Expand Contraction\n",
        "# Lower Casing\n",
        "# Remove Punctuations\n",
        "# Remove URLs & Remove words and digits contain digits\n",
        "# Remove Stopwords\n",
        "# Remove White spaces\n",
        "# Rephrase Text\n",
        "# Tokenization\n",
        "# Normalizing Text (i.e., Stemming, Lemmatization etc.)\n",
        "\n",
        "import re\n",
        "import nltk\n",
        "from nltk.corpus import stopwords\n",
        "from nltk.stem import PorterStemmer, WordNetLemmatizer\n",
        "import string\n",
        "import nltk\n",
        "nltk.download('all',quiet=True)\n",
        "from PIL import Image\n",
        "\n",
        "def transform_text(text):\n",
        "    # Convert text to lowercase\n",
        "    text = text.lower()\n",
        "\n",
        "    # Remove URLs\n",
        "    text = re.sub(r'http\\S+', '', text)\n",
        "\n",
        "    # Tokenize text into words\n",
        "    words = nltk.word_tokenize(text)\n",
        "\n",
        "    # Remove non-alphanumeric characters\n",
        "    words = [word for word in words if word.isalnum()]\n",
        "\n",
        "    # Remove stopwords and punctuation\n",
        "    stopwords_set = set(stopwords.words('english'))\n",
        "    punctuation_set = set(string.punctuation)\n",
        "    words = [word for word in words if word not in stopwords_set and word not in punctuation_set]\n",
        "\n",
        "    # Lemmatize words\n",
        "    lemmatizer = WordNetLemmatizer()\n",
        "    lemmatized_words = [lemmatizer.lemmatize(word) for word in words]\n",
        "\n",
        "    # Join words into a string and return\n",
        "    return ' '.join(lemmatized_words)"
      ]
    },
    {
      "cell_type": "code",
      "execution_count": null,
      "metadata": {
        "id": "OYwj-eZwtudu"
      },
      "outputs": [],
      "source": [
        "netflix_movies1['Clean_Text'] = netflix_movies1['clustering'].apply(transform_text)"
      ]
    },
    {
      "cell_type": "code",
      "execution_count": null,
      "metadata": {
        "id": "s37nFY-Mtuhx"
      },
      "outputs": [],
      "source": [
        "netflix_movies1[\"Clean_Text\"][50]"
      ]
    },
    {
      "cell_type": "markdown",
      "metadata": {
        "id": "zDJHXh-Ujq0s"
      },
      "source": [
        "# **Text Vectorization**"
      ]
    },
    {
      "cell_type": "markdown",
      "metadata": {
        "id": "OW-f7WM9Kz04"
      },
      "source": [
        "**TF-IDF combines two metrics: Term frequency (TF) and inverse document frequency (IDF).**\n",
        "\n",
        "Term Frequency (TF): This metric measures the frequency of a term in a document. It assumes that the more often a term appears in a document, the more relevant it is to that document. It is calculated using the formula:\n",
        "\n",
        "**TF(t, d) = (Number of times term t appears in document d) / (Total number of terms in document d)**\n",
        "\n",
        "**Inverse Document Frequency (IDF): This metric measures the importance of a term across a collection of documents. It gives higher weight to terms that appear less frequently in the entire collection. It is calculated using the formula:**\n",
        "\n",
        "\n",
        "**IDF(t) = log_e(Total number of documents / Number of documents containing term t)**"
      ]
    },
    {
      "cell_type": "code",
      "execution_count": null,
      "metadata": {
        "id": "CZok0ItYtulk"
      },
      "outputs": [],
      "source": [
        "bag_of_words = netflix_movies1.Clean_Text"
      ]
    },
    {
      "cell_type": "code",
      "execution_count": null,
      "metadata": {
        "id": "e4mDJprYtup3"
      },
      "outputs": [],
      "source": [
        "t_vectorizer = TfidfVectorizer(max_features=20000)\n",
        "X= t_vectorizer.fit_transform(bag_of_words)"
      ]
    },
    {
      "cell_type": "code",
      "execution_count": null,
      "metadata": {
        "id": "2uT-jRX4tuuk"
      },
      "outputs": [],
      "source": [
        "print(X.shape)"
      ]
    },
    {
      "cell_type": "code",
      "execution_count": null,
      "metadata": {
        "id": "5Inxr9-WtvoO"
      },
      "outputs": [],
      "source": [
        "t_vectorizer.get_feature_names_out()"
      ]
    },
    {
      "cell_type": "markdown",
      "metadata": {
        "id": "Te5CwcBYjzkq"
      },
      "source": [
        "Which text vectorization technique have you used and why?\n"
      ]
    },
    {
      "cell_type": "markdown",
      "metadata": {
        "id": "cmf5WluTj9b7"
      },
      "source": [
        "Answer Here."
      ]
    },
    {
      "cell_type": "markdown",
      "metadata": {
        "id": "X2pPHMLEkCcn"
      },
      "source": [
        "# **Dimesionality Reduction**"
      ]
    },
    {
      "cell_type": "markdown",
      "metadata": {
        "id": "eCNBw13DkNfA"
      },
      "source": [
        "**Do you think that dimensionality reduction is needed? Explain Why**"
      ]
    },
    {
      "cell_type": "markdown",
      "metadata": {
        "id": "FWXF3VmWkPLC"
      },
      "source": [
        "**Answer Here.**\n",
        "\n",
        "PCA to reduce the dimensionality of the dataset. PCA identifies the directions (principal components) along which the data varies the most. These components are ordered by the amount of variance they explain in the data."
      ]
    },
    {
      "cell_type": "code",
      "execution_count": null,
      "metadata": {
        "id": "sMU8xEUptv_J"
      },
      "outputs": [],
      "source": [
        "# DImensionality Reduction (If needed)\n",
        "#PCA Code\n",
        "import numpy as np\n",
        "from sklearn.decomposition import PCA\n",
        "import matplotlib.pyplot as plt\n",
        "transformer = PCA()\n",
        "transformer.fit(X.toarray())"
      ]
    },
    {
      "cell_type": "markdown",
      "metadata": {
        "id": "qgk8FfSKkkm3"
      },
      "source": [
        "**Which dimensionality reduction technique have you used and why? (If dimensionality reduction done on dataset.)**\n"
      ]
    },
    {
      "cell_type": "markdown",
      "metadata": {
        "id": "3Eg5xkh0kosY"
      },
      "source": [
        "**Answer Here**\n",
        "\n",
        "PCA can extract the most relevant features from a dataset. It transforms the original features into a new set of uncorrelated variables called principal components. These components are linear combinations of the original features and capture the maximum amount of variation present in the data."
      ]
    },
    {
      "cell_type": "code",
      "execution_count": null,
      "metadata": {
        "id": "ULmld1cC50MW"
      },
      "outputs": [],
      "source": [
        "# Lets plot explained var v/s comp to check how many components to be considered.\n",
        " #explained var v/s comp\n",
        "# Add a grid to the plot\n",
        "import matplotlib.pyplot as plt\n",
        "plt.figure(figsize=(15,5), dpi=120)\n",
        "plt.plot(np.cumsum(transformer.explained_variance_ratio_))\n",
        "plt.xlabel('number of components')\n",
        "plt.ylabel('cumulative explained variance')\n",
        "plt.axhline(y=0.95, color='r', linestyle='--',linewidth=2, label='95% Explained Variance')\n",
        "plt.grid()\n",
        "plt.show()"
      ]
    },
    {
      "cell_type": "markdown",
      "metadata": {
        "id": "sjGzRjYFOJlO"
      },
      "source": [
        "**The plot helps in determining the number of components to consider for dimensionality reduction. You can select the number of components where the cumulative explained variance reaches a satisfactory threshold, such as 95%. The point where the curve intersects or is closest to the threshold line can guide you in choosing the appropriate number of components for your analysis.**"
      ]
    },
    {
      "cell_type": "code",
      "execution_count": null,
      "metadata": {
        "id": "3HbRliK650nY"
      },
      "outputs": [],
      "source": [
        "# Import the necessary libraries\n",
        "from sklearn.decomposition import PCA\n",
        "# Create an instance of PCA with the desired explained variance ratio\n",
        "pca_tuned = PCA(n_components=0.95)\n",
        "# Fit the PCA model on the input data, X, which is converted to a dense array\n",
        "pca_tuned.fit(X.toarray())\n",
        "# Transform the input data, X, to its reduced dimensional representation\n",
        "X_transformed = pca_tuned.transform(X.toarray())\n",
        "# Print the shape of the transformed data to see the number of samples and transformed features\n",
        "print(X_transformed.shape)\n"
      ]
    },
    {
      "cell_type": "code",
      "execution_count": null,
      "metadata": {
        "id": "gwwWiwg05015"
      },
      "outputs": [],
      "source": [
        "X_transformed"
      ]
    },
    {
      "cell_type": "markdown",
      "metadata": {
        "id": "aqEOdiSAk0jX"
      },
      "source": [
        "# **6. ML Model Implementation**"
      ]
    },
    {
      "cell_type": "code",
      "execution_count": null,
      "metadata": {
        "id": "dhT_8FNcN1as"
      },
      "outputs": [],
      "source": [
        "from sklearn.cluster import KMeans\n",
        "from yellowbrick.cluster import KElbowVisualizer\n",
        "\n",
        "# Initialize the KMeans model with a random_state of 5\n",
        "model = KMeans(random_state=5)\n",
        "\n",
        "# Initialize the KElbowVisualizer with the KMeans model and desired parameters\n",
        "visualizer = KElbowVisualizer(model, k=(4, 22), metric='silhouette', timings=False, locate_elbow=True)\n",
        "\n",
        "# Fit the visualizer on the transformed data\n",
        "visualizer.fit(X_transformed)\n",
        "\n",
        "# Display the elbow plot\n",
        "visualizer.show()"
      ]
    },
    {
      "cell_type": "markdown",
      "metadata": {
        "id": "5NiVP4ssQyKX"
      },
      "source": [
        "**The plot will also indicate the \"elbow\" point, which represents the recommended number of clusters based on the selected metric.Using elbow plot with the optimal number of 5 clusters** ."
      ]
    },
    {
      "cell_type": "code",
      "execution_count": null,
      "metadata": {
        "id": "8224is2-_CWC"
      },
      "outputs": [],
      "source": [
        "from yellowbrick.cluster import SilhouetteVisualizer\n",
        "from sklearn.metrics import silhouette_score, silhouette_samples\n",
        "\n",
        "def silhouette_score_analysis(n):\n",
        "\n",
        "  for n_clusters in range(2,n):\n",
        "      km = KMeans (n_clusters=n_clusters, random_state=5)\n",
        "      preds = km.fit_predict(X_transformed)\n",
        "      centers = km.cluster_centers_\n",
        "\n",
        "      score = silhouette_score(X_transformed, preds, metric='euclidean')\n",
        "      print (\"For n_clusters = {}, silhouette score is {}\".format(n_clusters, score))\n",
        "\n",
        "      visualizer = SilhouetteVisualizer(km)\n",
        "\n",
        "      visualizer.fit(X_transformed) # Fit the training data to the visualizer\n",
        "      visualizer.poof() # Draw/show/poof the data"
      ]
    },
    {
      "cell_type": "code",
      "execution_count": null,
      "metadata": {
        "id": "dVgPK3NR_vQ0"
      },
      "outputs": [],
      "source": [
        "silhouette_score_analysis(15)"
      ]
    },
    {
      "cell_type": "code",
      "execution_count": null,
      "metadata": {
        "id": "yoDFbHyRLN8s"
      },
      "outputs": [],
      "source": [
        "import matplotlib.pyplot as plt\n",
        "from sklearn.cluster import KMeans\n",
        "\n",
        "# Create a figure with a specific size and resolution\n",
        "plt.figure(figsize=(10, 6), dpi=120)\n",
        "\n",
        "# Initialize an empty list to store the within-cluster sum of squares (WCSS)\n",
        "wcss = []\n",
        "\n",
        "# Iterate over different numbers of clusters\n",
        "for i in range(1, 22):\n",
        "    # Create a KMeans model with default parameters\n",
        "    model = KMeans(random_state=0)\n",
        "\n",
        "    # Initialize the KMeans algorithm with specific parameters\n",
        "    kmeans = KMeans(n_clusters=i, init='k-means++', max_iter=300, n_init=10, random_state=0)\n",
        "\n",
        "    # Fit the KMeans algorithm to the transformed data\n",
        "    kmeans.fit(X_transformed)\n",
        "\n",
        "    # Append the WCSS to the list\n",
        "    wcss.append(kmeans.inertia_)\n",
        "\n",
        "# Plot the number of clusters against the WCSS\n",
        "plt.plot(range(1, 22), wcss)\n",
        "\n",
        "\n",
        ""
      ]
    },
    {
      "cell_type": "code",
      "execution_count": null,
      "metadata": {
        "id": "ecIjQ741ZQMr"
      },
      "outputs": [],
      "source": [
        "import matplotlib.pyplot as plt\n",
        "from sklearn.cluster import KMeans\n",
        "import numpy as np\n",
        "\n",
        "# Create a figure with a larger size and resolution\n",
        "plt.figure(figsize=(20, 8), dpi=120)\n",
        "\n",
        "# Initialize a KMeans model with 15 clusters\n",
        "kmeans = KMeans(n_clusters=15, init='k-means++', random_state=9)\n",
        "\n",
        "# Fit the KMeans algorithm to the transformed data\n",
        "kmeans.fit(X_transformed)\n",
        "\n",
        "# Predict the labels of the clusters\n",
        "label = kmeans.fit_predict(X_transformed)\n",
        "\n",
        "# Get unique labels from the predictions\n",
        "unique_labels = np.unique(label)\n",
        "\n",
        "# Plot the results\n",
        "for i in unique_labels:\n",
        "    # Scatter plot the points belonging to each cluster\n",
        "    plt.scatter(X_transformed[label == i, 0], X_transformed[label == i, 1], label=i)\n",
        "\n",
        "# Display a legend to identify the clusters\n",
        "plt.legend()\n",
        "\n",
        "# Show the plot\n",
        "plt.show()\n"
      ]
    },
    {
      "cell_type": "code",
      "execution_count": null,
      "metadata": {
        "id": "-viMr-wna4dO"
      },
      "outputs": [],
      "source": [
        "# Add cluster values to the dateframe.\n",
        "netflix_movies1['cluster_number'] = kmeans.labels_"
      ]
    },
    {
      "cell_type": "code",
      "execution_count": null,
      "metadata": {
        "id": "HqlvX_slbHLF"
      },
      "outputs": [],
      "source": [
        "netflix_movies1.head(1)"
      ]
    },
    {
      "cell_type": "code",
      "execution_count": null,
      "metadata": {
        "id": "UkkhCPhPftOk"
      },
      "outputs": [],
      "source": [
        "# Count the number of movies or TV shows in each cluster\n",
        "cluster_content_count = netflix_movies1['cluster_number'].value_counts().reset_index().rename(columns={'index': 'clusters', 'clusters': 'Movies/TV_Shows'})\n",
        "\n",
        "# Print the cluster content count\n",
        "print(cluster_content_count)\n"
      ]
    },
    {
      "cell_type": "code",
      "execution_count": null,
      "metadata": {
        "id": "RIa4khfXNkd_"
      },
      "outputs": [],
      "source": [
        "#word cloud\n",
        "from wordcloud import WordCloud, STOPWORDS\n",
        "import matplotlib.pyplot as plt\n",
        "def word_count(category):\n",
        "  print(\"Exploring Cluster\", category)\n",
        "  col_names = ['type','title','country','rating','listed_in','description']\n",
        "  for i in col_names:\n",
        "    df_word_cloud = netflix_movies1[['cluster_number',i]].dropna()\n",
        "    df_word_cloud = df_word_cloud[df_word_cloud['cluster_number']==category]\n",
        "    text = \" \".join(word for word in df_word_cloud[i])\n",
        "    # Create stopword list:\n",
        "    stopwords = set(STOPWORDS)\n",
        "  # Generate a word cloud image\n",
        "    wordcloud = WordCloud(stopwords=stopwords, background_color=\"#FFC0CB\",width=500,height=500).generate(text)\n",
        "  # Display the generated image:\n",
        "  # the matplotlib way:\n",
        "    plt.rcParams[\"figure.figsize\"] = (10,10)\n",
        "    plt.imshow(wordcloud, interpolation='bilinear')\n",
        "    plt.axis(\"off\")\n",
        "\n",
        "    print(\"Looking for insights from\", i ,\"Movies/TV Shows\")\n",
        "\n",
        "    plt.show()\n",
        "\n",
        "\n",
        "\n"
      ]
    },
    {
      "cell_type": "code",
      "execution_count": null,
      "metadata": {
        "id": "i4324ryAOsUG"
      },
      "outputs": [],
      "source": [
        "word_count(9)"
      ]
    },
    {
      "cell_type": "markdown",
      "metadata": {
        "id": "nygLLPVt-iR6"
      },
      "source": [
        "Cluster 9 in a dataset contains a total of 232 words. The most frequently occurring words in this cluster are as follows:\n",
        "\n",
        "**Type** -  Movie & Tv shows\n",
        "\n",
        "**Title** - Broadway,Remastered,Christmas ,Friends Orchestra\n",
        "\n",
        "**Country**- United Kingdom,Argentina,United States,India\n",
        "\n",
        "**Rating** -TV-MA,PG-TV\n",
        "\n",
        "**Listed_in** -  Dramas International,Musical Dramas,Musicial\n",
        "            Documentaries,Comedies International\n",
        "\n",
        "**Description**- Documentary ,Music,One,Bad,Tour ,Love."
      ]
    },
    {
      "cell_type": "code",
      "execution_count": null,
      "metadata": {
        "id": "dGbuPW9SbPX7"
      },
      "outputs": [],
      "source": [
        "word_count(11)"
      ]
    },
    {
      "cell_type": "markdown",
      "metadata": {
        "id": "fCFmVzgDCN7_"
      },
      "source": [
        "Cluster 11 in a dataset contains a total of 410 words. The most frequently occurring words in this cluster are as follows:\n",
        "\n",
        "**Type** -  Movie & Tv shows\n",
        "\n",
        "**Title** - Special, America,Time,Live,Comedy, Netflix Alive,\n",
        "  Martin\n",
        "\n",
        "**Country** - United States,Brazil,Mexico,Italy\n",
        "\n",
        "**Rating** -TV-MA,TV-PG\n",
        "\n",
        "**Listed_in** - Tv-Comedies, Comedy Stand, Talk shows\n",
        "            \n",
        "\n",
        "**Description**- Stand Comedy, Comic, Take, Life, Live, Share,Stories."
      ]
    },
    {
      "cell_type": "markdown",
      "metadata": {
        "id": "kYhyXI9eGGMS"
      },
      "source": [
        "# 7- **Recommender system**"
      ]
    },
    {
      "cell_type": "markdown",
      "metadata": {
        "id": "QArqamR0b1T0"
      },
      "source": [
        "\n",
        "\n",
        "A **recommender system is a type of information filtering system that suggests items to users based on their preferences**, interests, or past behavior. **It is commonly used in various applications such as e-commerce websites, streaming platforms, social media, and more.** The goal of a recommender system is to provide personalized recommendations that are relevant and helpful to the individual user.\n",
        "\n",
        "\n",
        "\n"
      ]
    },
    {
      "cell_type": "markdown",
      "metadata": {
        "id": "TkI1KC6UTbVQ"
      },
      "source": [
        "**Content-based filtering:** This approach recommends items similar to the ones a user has liked or interacted with in the past. It analyzes the content or attributes of items and finds similar items to recommend. For example, if a user enjoys watching action movies, the system may recommend other action movies based on genre, actors, or plot.\n",
        "\n",
        "\n",
        "\n",
        "\n",
        "\n",
        "\n",
        "\n",
        "\n",
        "\n",
        "\n",
        "\n",
        "\n",
        "\n",
        "\n",
        "\n",
        "\n",
        "\n",
        "\n",
        "\n",
        "\n",
        "\n",
        "\n",
        "\n",
        "\n",
        "\n",
        "\n",
        "\n",
        "\n",
        "\n",
        "\n",
        "\n",
        "\n",
        "\n",
        "\n",
        "\n",
        "\n",
        "\n",
        "\n",
        "\n",
        "\n",
        "![1_-35tVkI5VpylPkVWGrwbkg.png](data:image/png;base64,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)"
      ]
    },
    {
      "cell_type": "code",
      "execution_count": null,
      "metadata": {
        "id": "TKWIhNcYZj6h"
      },
      "outputs": [],
      "source": [
        "from sklearn.metrics.pairwise import cosine_similarity\n",
        "from sklearn.feature_extraction.text import CountVectorizer"
      ]
    },
    {
      "cell_type": "code",
      "execution_count": null,
      "metadata": {
        "id": "D2tJLhwNZlQF"
      },
      "outputs": [],
      "source": [
        "#removing stopwords\n",
        "tfidf = TfidfVectorizer(stop_words='english')\n",
        "\n",
        "#Replace NaN with an empty string\n",
        "netflix_movies1['description'] = netflix_movies1['description'].fillna('')\n",
        "\n",
        "#Construct the required TF-IDF matrix by fitting and transforming the data\n",
        "tfidf_matrix = tfidf.fit_transform(netflix_movies1['description'])\n",
        "\n",
        "#Output the shape of tfidf_matrix\n",
        "tfidf_matrix.shape"
      ]
    },
    {
      "cell_type": "code",
      "execution_count": null,
      "metadata": {
        "id": "8CwjzQWYZm91"
      },
      "outputs": [],
      "source": [
        "# Import linear_kernel\n",
        "from sklearn.metrics.pairwise import linear_kernel\n",
        "# Compute the cosine similarity matrix\n",
        "cosine_sim = linear_kernel(tfidf_matrix, tfidf_matrix)\n"
      ]
    },
    {
      "cell_type": "code",
      "execution_count": null,
      "metadata": {
        "id": "ykxuZUA8hP_Z"
      },
      "outputs": [],
      "source": [
        "cosine_sim"
      ]
    },
    {
      "cell_type": "code",
      "execution_count": null,
      "metadata": {
        "id": "pFats2DdeGea"
      },
      "outputs": [],
      "source": [
        "indices = pd.Series(netflix_movies1.index, index=netflix_movies1['title']).drop_duplicates()"
      ]
    },
    {
      "cell_type": "code",
      "execution_count": null,
      "metadata": {
        "id": "WdB-kxV7Zpa8"
      },
      "outputs": [],
      "source": [
        "def get_recommendations(title, cosine_sim=cosine_sim):\n",
        "    idx = indices[title]\n",
        "\n",
        "    # Get the pairwsie similarity scores of all movies with that movie\n",
        "    sim_scores = list(enumerate(cosine_sim[idx]))\n",
        "\n",
        "    # Sort the movies based on the similarity scores\n",
        "    sim_scores = sorted(sim_scores, key=lambda x: x[1], reverse=True)\n",
        "\n",
        "    # Get the scores of the 10 most similar movies\n",
        "    sim_scores = sim_scores[1:11]\n",
        "    # Get the movie indices\n",
        "    movie_indices = [i[0] for i in sim_scores]\n",
        "\n",
        "    # Return the top 10 most similar movies\n",
        "    return netflix_movies1['title'].iloc[movie_indices]\n",
        "\n",
        ""
      ]
    },
    {
      "cell_type": "code",
      "execution_count": null,
      "metadata": {
        "id": "JQ6yKKZLiPaZ"
      },
      "outputs": [],
      "source": [
        "netflix_movies1['title'][1:70]"
      ]
    },
    {
      "cell_type": "code",
      "execution_count": null,
      "metadata": {
        "id": "qXo_SGBPhzxQ"
      },
      "outputs": [],
      "source": [
        "get_recommendations( '14 Cameras',cosine_sim)"
      ]
    },
    {
      "cell_type": "markdown",
      "metadata": {
        "id": "-m8pxPx6l9cy"
      },
      "source": []
    },
    {
      "cell_type": "markdown",
      "metadata": {
        "id": "YWiNJU2vmlwl"
      },
      "source": [
        "#**8- Conclusion**"
      ]
    },
    {
      "cell_type": "markdown",
      "metadata": {
        "id": "DyWjus4smrfp"
      },
      "source": [
        "**1-** It is interesting to note that the majority of the content available on Netflix consists of movies. However, in recent years, the platform has been focusing more on TV shows.\n",
        "\n",
        "**2-** Most of these shows are released either at the end or the beginning of the year.\n",
        "\n",
        "**3-** The United States and India are among the top five countries that produce all of the available content on the platform. Additionally, out of the top ten actors with the maximum content, six of them are from India.\n",
        "\n",
        "**4-** When it comes to content ratings, TV-MA tops the charts,\n",
        " indicating that mature content is more popular on Netflix.\n",
        "\n",
        "**5-** The value of k=15 was found to be optimal for clustering the data, and it was used to group the content into ten distinct clusters.\n",
        "\n",
        "**6-** Using this data, a Content based recommender system was created using cosine similarity, which provided recommendations for Movies and TV shows."
      ]
    },
    {
      "cell_type": "markdown",
      "metadata": {
        "id": "dNAe6CDKWdgt"
      },
      "source": [
        "# **9. Future Work**"
      ]
    },
    {
      "cell_type": "markdown",
      "metadata": {
        "id": "5_1aTmOQWwjj"
      },
      "source": [
        "- Integrating this dataset with external sources such as IMDB ratings,books clsutering ,Plant based Type clustering  can lead to numerous intriguing discoveries.\n",
        "\n",
        "- By incorporating additional data, a more comprehensive recommender system could be developed, offering enhanced recommendations to users. This system could then be deployed on the web for widespread usage."
      ]
    },
    {
      "cell_type": "markdown",
      "metadata": {
        "id": "Pr6fyxprmx_O"
      },
      "source": [
        "# ***Hurrah! You have successfully completed your Machine Learning Capstone Project !!!***"
      ]
    }
  ],
  "metadata": {
    "colab": {
      "provenance": [],
      "include_colab_link": true
    },
    "gpuClass": "standard",
    "kernelspec": {
      "display_name": "Python 3",
      "name": "python3"
    },
    "language_info": {
      "name": "python"
    }
  },
  "nbformat": 4,
  "nbformat_minor": 0
}